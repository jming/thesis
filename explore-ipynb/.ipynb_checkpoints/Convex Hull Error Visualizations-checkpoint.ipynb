{
 "metadata": {
  "name": "",
  "signature": "sha256:fb1fde7fbcaf1f0e2ff3519e9709d837651f67f261e79050c11c4914be1a52c6"
 },
 "nbformat": 3,
 "nbformat_minor": 0,
 "worksheets": [
  {
   "cells": [
    {
     "cell_type": "code",
     "collapsed": false,
     "input": [
      "import numpy as np\n"
     ],
     "language": "python",
     "metadata": {},
     "outputs": [],
     "prompt_number": 1
    },
    {
     "cell_type": "code",
     "collapsed": false,
     "input": [
      "import matplotlib.pyplot as plt\n",
      "%matplotlib inline \n",
      "\n",
      "# special matplotlib argument for improved plots\n",
      "from matplotlib import rcParams\n",
      "\n",
      "#colorbrewer2 Dark2 qualitative color table\n",
      "dark2_colors = [(0.10588235294117647, 0.6196078431372549, 0.4666666666666667),\n",
      "                (0.8509803921568627, 0.37254901960784315, 0.00784313725490196),\n",
      "                (0.4588235294117647, 0.4392156862745098, 0.7019607843137254),\n",
      "                (0.9058823529411765, 0.1607843137254902, 0.5411764705882353),\n",
      "                (0.4, 0.6509803921568628, 0.11764705882352941),\n",
      "                (0.9019607843137255, 0.6705882352941176, 0.00784313725490196),\n",
      "                (0.6509803921568628, 0.4627450980392157, 0.11372549019607843)]\n",
      "\n",
      "rcParams['figure.figsize'] = (10, 6)\n",
      "rcParams['figure.dpi'] = 150\n",
      "rcParams['axes.color_cycle'] = dark2_colors\n",
      "rcParams['lines.linewidth'] = 2\n",
      "rcParams['axes.facecolor'] = 'white'\n",
      "rcParams['font.size'] = 14\n",
      "rcParams['patch.edgecolor'] = 'white'\n",
      "rcParams['patch.facecolor'] = dark2_colors[0]\n",
      "rcParams['font.family'] = 'StixGeneral'"
     ],
     "language": "python",
     "metadata": {},
     "outputs": [],
     "prompt_number": 2
    },
    {
     "cell_type": "code",
     "collapsed": false,
     "input": [
      "scaled = np.loadtxt(\"../pipeline/result26/log.evals\")\n",
      "scaled.shape"
     ],
     "language": "python",
     "metadata": {},
     "outputs": [
      {
       "metadata": {},
       "output_type": "pyout",
       "prompt_number": 3,
       "text": [
        "(2992630,)"
       ]
      }
     ],
     "prompt_number": 3
    },
    {
     "cell_type": "code",
     "collapsed": false,
     "input": [
      "scaled = scaled.reshape([101,10,2963])"
     ],
     "language": "python",
     "metadata": {},
     "outputs": [],
     "prompt_number": 4
    },
    {
     "cell_type": "code",
     "collapsed": false,
     "input": [
      "for anchor_set in scaled[:30]:\n",
      "    for config in anchor_set:\n",
      "        print sum(config <= 1e-7),\n",
      "    print np.linalg.norm(anchor_set), np.sum(anchor_set)/len(anchor_set)"
     ],
     "language": "python",
     "metadata": {},
     "outputs": [
      {
       "output_type": "stream",
       "stream": "stdout",
       "text": [
        "2963 2963 2963 2963 2963 2963 2963 2963 "
       ]
      },
      {
       "output_type": "stream",
       "stream": "stdout",
       "text": [
        "2963 2963 0.0 0.0\n",
        "2962 2962 2875 2962 2962 2963 "
       ]
      },
      {
       "output_type": "stream",
       "stream": "stdout",
       "text": [
        "2962 2962 2962 2962 2.30073515483e-06 1.01141815316e-05\n",
        "2962 2962 2872 2962 2962 "
       ]
      },
      {
       "output_type": "stream",
       "stream": "stdout",
       "text": [
        "2963 2962 2962 2962 2962 2.3308589471e-06 1.02824003577e-05\n",
        "2962 2962 2874 "
       ]
      },
      {
       "output_type": "stream",
       "stream": "stdout",
       "text": [
        "2962 2962 2963 2962 2962 2962 2962 2.31446290007e-06 1.01920602737e-05\n",
        "2962 2962 "
       ]
      },
      {
       "output_type": "stream",
       "stream": "stdout",
       "text": [
        "2872 2962 2962 2963 2962 2962 2962 2962 2.33467777034e-06 1.03130247086e-05\n",
        "2962 "
       ]
      },
      {
       "output_type": "stream",
       "stream": "stdout",
       "text": [
        "2962 2864 2962 2962 2963 2962 2962 "
       ]
      },
      {
       "output_type": "stream",
       "stream": "stdout",
       "text": [
        "2962 2962 2.36690638419e-06 1.05020460413e-05\n",
        "2962 2962 2961 2955 2962 2962 "
       ]
      },
      {
       "output_type": "stream",
       "stream": "stdout",
       "text": [
        "2962 2962 2963 2962 1.5297066228e-06 1.07289056119e-05\n",
        "2962 2962 2962 "
       ]
      },
      {
       "output_type": "stream",
       "stream": "stdout",
       "text": [
        "2956 2962 2962 2962 2962 2963 2962 1.5853985537e-06 1.13351104895e-05\n",
        "2962"
       ]
      },
      {
       "output_type": "stream",
       "stream": "stdout",
       "text": [
        " 2962 2961 2955 2962 2962 2962 2962 2963 "
       ]
      },
      {
       "output_type": "stream",
       "stream": "stdout",
       "text": [
        "2962 1.53242339135e-06 1.07519612694e-05\n",
        "2962 2962 2962 2956 2962 2962 2962 2962 2963 "
       ]
      },
      {
       "output_type": "stream",
       "stream": "stdout",
       "text": [
        "2962 1.57575427581e-06 1.12101934242e-05\n",
        "2962 2962 2962 2957 2962 2962 2962 "
       ]
      },
      {
       "output_type": "stream",
       "stream": "stdout",
       "text": [
        "2962 2963 2962 1.56202003497e-06 1.10803683092e-05\n",
        "2963 2963 2876 2961 2961 2962 2962 "
       ]
      },
      {
       "output_type": "stream",
       "stream": "stdout",
       "text": [
        "2962 2960 2960 2.77438489204e-06 2.04629863513e-05\n",
        "2963 2963 2879 2961 2961 2962 "
       ]
      },
      {
       "output_type": "stream",
       "stream": "stdout",
       "text": [
        "2962 2962 2960 2960 2.71033808653e-06 1.97088696314e-05\n",
        "2963 2963 2879 2961 2961 "
       ]
      },
      {
       "output_type": "stream",
       "stream": "stdout",
       "text": [
        "2962 2962 2962 2960 2960 2.73099348392e-06 1.99710868607e-05\n",
        "2963 2963 2877 2961 2961 "
       ]
      },
      {
       "output_type": "stream",
       "stream": "stdout",
       "text": [
        "2962 2962 2962 2960 2960 2.76994412793e-06 2.04201716613e-05\n",
        "2963 2963 2879 2961 2961 "
       ]
      },
      {
       "output_type": "stream",
       "stream": "stdout",
       "text": [
        "2962 2962 2962 2960 2960 2.72805405214e-06 1.99344941454e-05\n",
        "2936 2961 2962 2963 2946 "
       ]
      },
      {
       "output_type": "stream",
       "stream": "stdout",
       "text": [
        "2962 2960 2942 2962 2944 3.49747956785e-06 3.15775468297e-05\n",
        "2936 2961 2962 2963 "
       ]
      },
      {
       "output_type": "stream",
       "stream": "stdout",
       "text": [
        "2946 2962 2960 2944 2962 2945 3.4109294873e-06 3.03643895591e-05\n",
        "2937 2961 2962 2963 "
       ]
      },
      {
       "output_type": "stream",
       "stream": "stdout",
       "text": [
        "2946 2962 2960 2943 2962 2944 3.51984398917e-06 3.19026891323e-05\n",
        "2936 2961 2962 2963 "
       ]
      },
      {
       "output_type": "stream",
       "stream": "stdout",
       "text": [
        "2946 2962 2960 2943 2962 2945 3.39388239527e-06 3.01555760928e-05\n",
        "2936 2961 2962 "
       ]
      },
      {
       "output_type": "stream",
       "stream": "stdout",
       "text": [
        "2963 2946 2962 2960 2944 2962 2945 3.3919474182e-06 3.01742259723e-05\n",
        "2890 2955 2962 "
       ]
      },
      {
       "output_type": "stream",
       "stream": "stdout",
       "text": [
        "2956 2962 2873 2962 2963 2962 2962 3.65667864132e-06 2.95176245453e-05\n",
        "2889 2956 2962 "
       ]
      },
      {
       "output_type": "stream",
       "stream": "stdout",
       "text": [
        "2956 2962 2877 2962 2963 2962 2962 3.57045879519e-06 2.83794149524e-05\n",
        "2887 2954 "
       ]
      },
      {
       "output_type": "stream",
       "stream": "stdout",
       "text": [
        "2962 2954 2962 2855 2962 2963 2962 2962 3.83402066207e-06 3.16492678132e-05\n",
        "2890 "
       ]
      },
      {
       "output_type": "stream",
       "stream": "stdout",
       "text": [
        "2954 2962 2955 2962 2876 2962 2963 "
       ]
      },
      {
       "output_type": "stream",
       "stream": "stdout",
       "text": [
        "2962 2962 3.59639526486e-06 2.87201898994e-05\n",
        "2890 2955 2962 2956 2962 "
       ]
      },
      {
       "output_type": "stream",
       "stream": "stdout",
       "text": [
        "2876 2962 2963 2962 2962 3.61216955111e-06 2.89680980526e-05\n",
        "2936 2962 2962 "
       ]
      },
      {
       "output_type": "stream",
       "stream": "stdout",
       "text": [
        "2962 2960 2963 2949 2895 2958 2962 3.32921361497e-06 2.79906520419e-05\n",
        "2933 2962 "
       ]
      },
      {
       "output_type": "stream",
       "stream": "stdout",
       "text": [
        "2962 2962 2960 2963 2949 2894 2958 2962 3.44787534024e-06 2.96008841936e-05\n",
        "2935 "
       ]
      },
      {
       "output_type": "stream",
       "stream": "stdout",
       "text": [
        "2962 2962 2962 2960 2963 2948 2896 2958 2962 3.34359068006e-06 2.82115637864e-05\n",
        "2934"
       ]
      },
      {
       "output_type": "stream",
       "stream": "stdout",
       "text": [
        " 2962 2962 2962 2960 2963 2949 2891 2958 2962 3.55370044844e-06 3.09460816878e-05\n"
       ]
      }
     ],
     "prompt_number": 8
    },
    {
     "cell_type": "code",
     "collapsed": false,
     "input": [],
     "language": "python",
     "metadata": {},
     "outputs": []
    }
   ],
   "metadata": {}
  }
 ]
}
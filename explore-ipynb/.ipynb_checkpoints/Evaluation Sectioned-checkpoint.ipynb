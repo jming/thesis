{
 "metadata": {
  "name": "",
  "signature": "sha256:ce3cbbabc1c8547ee6e429165d24c07c933973b6710b07c3671748e3981b9148"
 },
 "nbformat": 3,
 "nbformat_minor": 0,
 "worksheets": [
  {
   "cells": [
    {
     "cell_type": "code",
     "collapsed": false,
     "input": [
      "import numpy as np\n",
      "from sklearn import cross_validation"
     ],
     "language": "python",
     "metadata": {},
     "outputs": [],
     "prompt_number": 1
    },
    {
     "cell_type": "code",
     "collapsed": false,
     "input": [
      "import scipy.io"
     ],
     "language": "python",
     "metadata": {},
     "outputs": [],
     "prompt_number": 2
    },
    {
     "cell_type": "code",
     "collapsed": false,
     "input": [
      "def create_folds(count_matrix, outfile, n_folds=10):\n",
      "    \n",
      "    # get the count matrix from reading it in\n",
      "    data = scipy.io.loadmat(count_matrix)['M'].transpose()\n",
      "    m,n = data.shape\n",
      "    print m,n\n",
      "    \n",
      "    kf = cross_validation.KFold(m, n_folds=n_folds)\n",
      "\n",
      "    count = 0\n",
      "    for train, test in kf:\n",
      "        \n",
      "        print \"fold\", count\n",
      "\n",
      "        data_train = data[train]\n",
      "        data_test = data[test]\n",
      "        \n",
      "        # write the count matrices\n",
      "        scipy.io.savemat(outfile+\"log.train.\"+str(count), {'M': data_train.transpose()})\n",
      "        scipy.io.savemat(outfile+\"log.test.\"+str(count), {'M': data_test.transpose()})\n",
      "        \n",
      "        count += 1"
     ],
     "language": "python",
     "metadata": {},
     "outputs": [],
     "prompt_number": 15
    },
    {
     "cell_type": "code",
     "collapsed": false,
     "input": [
      "outfile = \"../pipeline/result30/\"\n",
      "count_matrix = outfile + \"cui_counter.mat\"\n",
      "\n",
      "create_folds(count_matrix, outfile)"
     ],
     "language": "python",
     "metadata": {},
     "outputs": [
      {
       "output_type": "stream",
       "stream": "stdout",
       "text": [
        "245717 1321802\n",
        "fold 0\n",
        "fold"
       ]
      },
      {
       "output_type": "stream",
       "stream": "stdout",
       "text": [
        " 1\n",
        "fold"
       ]
      },
      {
       "output_type": "stream",
       "stream": "stdout",
       "text": [
        " 2\n",
        "fold"
       ]
      },
      {
       "output_type": "stream",
       "stream": "stdout",
       "text": [
        " 3\n",
        "fold"
       ]
      },
      {
       "output_type": "stream",
       "stream": "stdout",
       "text": [
        " 4\n",
        "fold"
       ]
      },
      {
       "output_type": "stream",
       "stream": "stdout",
       "text": [
        " 5\n",
        "fold"
       ]
      },
      {
       "output_type": "stream",
       "stream": "stdout",
       "text": [
        " 6\n",
        "fold"
       ]
      },
      {
       "output_type": "stream",
       "stream": "stdout",
       "text": [
        " 7\n",
        "fold"
       ]
      },
      {
       "output_type": "stream",
       "stream": "stdout",
       "text": [
        " 8\n",
        "fold"
       ]
      },
      {
       "output_type": "stream",
       "stream": "stdout",
       "text": [
        " 9\n"
       ]
      }
     ],
     "prompt_number": 17
    },
    {
     "cell_type": "code",
     "collapsed": false,
     "input": [
      "fold0_test = scipy.io.loadmat(outfile+\"log.test.0.mat\")['M']\n",
      "print fold0_test.shape"
     ],
     "language": "python",
     "metadata": {},
     "outputs": [
      {
       "output_type": "stream",
       "stream": "stdout",
       "text": [
        "(1321802, 24572)\n"
       ]
      }
     ],
     "prompt_number": 21
    },
    {
     "cell_type": "code",
     "collapsed": false,
     "input": [
      "fold0_train = scipy.io.loadmat(outfile+\"log.train.0.mat\")['M']\n",
      "print fold0_train.shape"
     ],
     "language": "python",
     "metadata": {},
     "outputs": [
      {
       "output_type": "stream",
       "stream": "stdout",
       "text": [
        "(1321802, 221145)\n"
       ]
      }
     ],
     "prompt_number": 22
    },
    {
     "cell_type": "code",
     "collapsed": false,
     "input": [
      "print fold0_test"
     ],
     "language": "python",
     "metadata": {},
     "outputs": [
      {
       "output_type": "stream",
       "stream": "stdout",
       "text": [
        "  (3507, 0)\t1.0\n",
        "  (13819, 0)\t1.0\n",
        "  (15385, 0)\t1.0\n",
        "  (21270, 0)\t1.0\n",
        "  (34754, 0)\t1.0\n",
        "  (39593, 0)\t1.0\n",
        "  (85639, 0)\t1.0\n",
        "  (162340, 0)\t1.0\n",
        "  (205214, 0)\t1.0\n",
        "  (221189, 0)\t1.0\n",
        "  (231530, 0)\t1.0\n",
        "  (262512, 0)\t1.0\n",
        "  (424522, 0)\t1.0\n",
        "  (443052, 0)\t1.0\n",
        "  (446516, 0)\t1.0\n",
        "  (870221, 0)\t1.0\n",
        "  (1140621, 0)\t1.0\n",
        "  (3507, 1)\t1.0\n",
        "  (6104, 1)\t1.0\n",
        "  (8059, 1)\t1.0\n",
        "  (13621, 1)\t1.0\n",
        "  (13819, 1)\t1.0\n",
        "  (14544, 1)\t1.0\n",
        "  (15127, 1)\t1.0\n",
        "  (18767, 1)\t1.0\n",
        "  :\t:\n",
        "  (849355, 24570)\t1.0\n",
        "  (850310, 24570)\t1.0\n",
        "  (870209, 24570)\t1.0\n",
        "  (870705, 24570)\t1.0\n",
        "  (871010, 24570)\t1.0\n",
        "  (872975, 24570)\t1.0\n",
        "  (917903, 24570)\t1.0\n",
        "  (920880, 24570)\t1.0\n",
        "  (929301, 24570)\t1.0\n",
        "  (936282, 24570)\t1.0\n",
        "  (947630, 24570)\t1.0\n",
        "  (948775, 24570)\t1.0\n",
        "  (1028706, 24570)\t1.0\n",
        "  (1095831, 24570)\t1.0\n",
        "  (1123023, 24570)\t1.0\n",
        "  (1260956, 24570)\t1.0\n",
        "  (1260957, 24570)\t1.0\n",
        "  (1265875, 24570)\t1.0\n",
        "  (1272683, 24570)\t1.0\n",
        "  (1272706, 24570)\t1.0\n",
        "  (1280500, 24570)\t1.0\n",
        "  (1299585, 24570)\t1.0\n",
        "  (1302234, 24570)\t1.0\n",
        "  (3507, 24571)\t1.0\n",
        "  (543488, 24571)\t1.0\n"
       ]
      }
     ],
     "prompt_number": 24
    },
    {
     "cell_type": "code",
     "collapsed": false,
     "input": [
      "def filter_folds(filtered, filter_name, vocab_file, outfile, folds=None):\n",
      "    \n",
      "    # get the indices of the ones to keep\n",
      "    vocab = file(vocab_file).read().strip().split()\n",
      "    vocab_filtered = vocab[filtered]\n",
      "    \n",
      "    with open(vocab_file+\".\"+filter_name, \"w\") as f:\n",
      "        for vf in vocab_filtered:\n",
      "            f.write(\"%s\\n\", vf)\n",
      "    \n",
      "    # create counters with filtered indices\n",
      "    if not folds:\n",
      "        folds = [x for x in range(10)]\n",
      "    \n",
      "    for fold in folds:\n",
      "        for t in ['train', 'test']:\n",
      "            file_base = outfile+\"fold\"+str(fold)+\"/log.\"+t\n",
      "            orig = scipy.io.loadmat(file_base+\".mat\")['M'].transpose()        \n",
      "            scipy.io.savemat(file_base+\".\"+filter_name, {'M':orig[filtered].transpose()})\n",
      "        \n",
      "    \n",
      "    pass"
     ],
     "language": "python",
     "metadata": {},
     "outputs": []
    }
   ],
   "metadata": {}
  }
 ]
}
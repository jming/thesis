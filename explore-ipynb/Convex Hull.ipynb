{
 "metadata": {
  "name": "",
  "signature": "sha256:adc98c2d73c1b66de88c9dfb723fdf977e70c6f6817fe91e3dda28eafc0f9947"
 },
 "nbformat": 3,
 "nbformat_minor": 0,
 "worksheets": [
  {
   "cells": [
    {
     "cell_type": "code",
     "collapsed": false,
     "input": [
      "import numpy as np\n",
      "import matplotlib.pyplot as plt\n",
      "import scipy.spatial\n",
      "import time"
     ],
     "language": "python",
     "metadata": {},
     "outputs": [],
     "prompt_number": 2
    },
    {
     "cell_type": "code",
     "collapsed": false,
     "input": [
      "import lsqlin"
     ],
     "language": "python",
     "metadata": {},
     "outputs": [],
     "prompt_number": 14
    },
    {
     "cell_type": "code",
     "collapsed": false,
     "input": [
      "%matplotlib inline \n",
      "\n",
      "# special matplotlib argument for improved plots\n",
      "from matplotlib import rcParams\n",
      "\n",
      "#colorbrewer2 Dark2 qualitative color table\n",
      "dark2_colors = [(0.10588235294117647, 0.6196078431372549, 0.4666666666666667),\n",
      "                (0.8509803921568627, 0.37254901960784315, 0.00784313725490196),\n",
      "                (0.4588235294117647, 0.4392156862745098, 0.7019607843137254),\n",
      "                (0.9058823529411765, 0.1607843137254902, 0.5411764705882353),\n",
      "                (0.4, 0.6509803921568628, 0.11764705882352941),\n",
      "                (0.9019607843137255, 0.6705882352941176, 0.00784313725490196),\n",
      "                (0.6509803921568628, 0.4627450980392157, 0.11372549019607843)]\n",
      "\n",
      "rcParams['figure.figsize'] = (10, 6)\n",
      "rcParams['figure.dpi'] = 150\n",
      "rcParams['axes.color_cycle'] = dark2_colors\n",
      "rcParams['lines.linewidth'] = 2\n",
      "rcParams['axes.facecolor'] = 'white'\n",
      "rcParams['font.size'] = 14\n",
      "rcParams['patch.edgecolor'] = 'white'\n",
      "rcParams['patch.facecolor'] = dark2_colors[0]\n",
      "rcParams['font.family'] = 'StixGeneral'"
     ],
     "language": "python",
     "metadata": {},
     "outputs": [],
     "prompt_number": 4
    },
    {
     "cell_type": "code",
     "collapsed": false,
     "input": [
      "M = np.loadtxt(\"../pipeline/result_out.20.M\")\n",
      "candidates = np.loadtxt(\"../pipeline/result_out.20.candidates\")\n",
      "var = np.loadtxt(\"../pipeline/result_out.20.var\")"
     ],
     "language": "python",
     "metadata": {},
     "outputs": [],
     "prompt_number": 5
    },
    {
     "cell_type": "code",
     "collapsed": false,
     "input": [
      "print M.shape\n",
      "print candidates.shape\n",
      "print var.shape"
     ],
     "language": "python",
     "metadata": {},
     "outputs": [
      {
       "output_type": "stream",
       "stream": "stdout",
       "text": [
        "(2963, 2963)\n",
        "(2053,)\n",
        "(2963, 2963)\n"
       ]
      }
     ],
     "prompt_number": 6
    },
    {
     "cell_type": "code",
     "collapsed": false,
     "input": [
      "def projection_find(M_orig, r, candidates, var):\n",
      "    \n",
      "    ### initialize variables\n",
      "    print 'initializing variables', time.time()\n",
      "    \n",
      "    n = M_orig[:, 0].size\n",
      "    dim = M_orig[0, :].size\n",
      "    \n",
      "    M = M_orig.copy()\n",
      "    \n",
      "    # anchor_words = np.zeros((r, dim))\n",
      "    # anchor_indices = np.zeros(r, dtype=np.int)\n",
      "    anchor_sets = np.zeros((20, r))\n",
      "    \n",
      "    basis = np.zeros((r-1, dim))\n",
      "    \n",
      "    ### initialize coordinate system\n",
      "    print 'initializing coordinate system', time.time()\n",
      "    \n",
      "    # find farthest point p1 from the origin\n",
      "    max_dist = 0\n",
      "    for i in candidates:\n",
      "        dist = np.dot(M[i], M[i])\n",
      "        if dist > max_dist:\n",
      "            max_dist = dist\n",
      "            anchor_sets[0][0] = i\n",
      "            # anchor_words[0] = M_orig[i]\n",
      "            # anchor_indices[0] = i\n",
      "    \n",
      "    # set to origin of coordinate system\n",
      "    for i in candidates:\n",
      "        M[i] = M[i] - M_orig[0]\n",
      "    \n",
      "    ### find the elements of the basis greedily\n",
      "    print 'finding elements of basis', time.time()\n",
      "    \n",
      "    # find first, farthest from p1\n",
      "    max_dist = 0\n",
      "    for i in candidates:\n",
      "        dist = np.dot(M[i], M[i])\n",
      "        if dist > max_dist:\n",
      "            max_dist = dist\n",
      "            anchor_sets[0][1] = i\n",
      "            # anchor_words[1] = M_orig[i]\n",
      "            # anchor_indices[1] = i\n",
      "            basis[0] = M[i]/np.sqrt(np.dot(M[i], M[i]))\n",
      "            \n",
      "    # find remaining by distance from basis\n",
      "    for j in range(1, r-1):\n",
      "        max_dist = 0\n",
      "        for i in candidates:\n",
      "            M[i] = M[i] - np.dot(M[i], basis[j-1])*basis[j-1]\n",
      "            dist = np.dot(M[i], M[i])\n",
      "            if dist > max_dist:\n",
      "                max_dist = dist\n",
      "                anchor_sets[0][j + 1] = i\n",
      "                # anchor_words[j + 1] = M_orig[i]\n",
      "                # anchor_indices[j + 1] = i\n",
      "                basis[j] = M[i]/np.sqrt(np.dot(M[i], M[i]))    \n",
      "    \n",
      "    ### now update the anchors\n",
      "    print 'updating anchors', time.time()\n",
      "    \n",
      "    reps = 1\n",
      "    configs = 10\n",
      "    \n",
      "    for rep in range(0, reps):\n",
      "\n",
      "        for j in range(0, r-1):\n",
      "            \n",
      "            set_n = rep*(r-1) + j\n",
      "            \n",
      "            # create config table for storing\n",
      "            config_table = np.zeros((configs, r-1, dim))\n",
      "            config_avgs = np.zeros((len(candidates), configs))\n",
      "            \n",
      "            for n in range(0, configs):\n",
      "                \n",
      "                # create a new configuration\n",
      "                config = create_config(M, var)\n",
      "\n",
      "                for i in candidates:\n",
      "\n",
      "                    # try using the candidate basis\n",
      "                    active_set = np.concatenate((anchor_sets[set_n][:j], [i], anchor_sets[set_n][j+1:]))\n",
      "                    # config_basis = basis[:anchor] + config[i] + basis[anchor+1:]\n",
      "                    \n",
      "                    # count the number of points included in this configuration\n",
      "                    count = count_incl(config, active_set)\n",
      "            \n",
      "            # find the averages of all configurations across candidates\n",
      "            max_incl = np.argmax(config_avgs.sum(axis=1))\n",
      "            \n",
      "            # replace with the anchor with the highest average\n",
      "            anchor_sets[set_n+1] = np.concatenate((anchor_sets[set_n][:j], [max_incl], anchor_sets[set_n][j+1:]))\n",
      "    \n",
      "    ### check the possible anchor sets\n",
      "    # print 'checking possible sets', time.time()\n",
      "    \n",
      "    ### finishing up\n",
      "    print 'finishing up'\n",
      "    \n",
      "    # probably need to convert from set to anchor words\n",
      "    anchor_indices = anchor_sets[-1]\n",
      "    anchor_words = [M_orig[x] for x in anchor_indices]\n",
      "    \n",
      "    # convert numpy array to python list\n",
      "    anchor_indices_list = []\n",
      "    for i in range(r):\n",
      "        anchor_indices_list.append(anchor_indices[i])\n",
      "    \n",
      "    return (anchor_words, anchor_indices_list)\n",
      "    "
     ],
     "language": "python",
     "metadata": {},
     "outputs": [],
     "prompt_number": 7
    },
    {
     "cell_type": "code",
     "collapsed": false,
     "input": [],
     "language": "python",
     "metadata": {},
     "outputs": []
    },
    {
     "cell_type": "code",
     "collapsed": false,
     "input": [
      "def create_config(M, var):\n",
      "    return 2 * var * np.random.random_sample((M.shape)) - var"
     ],
     "language": "python",
     "metadata": {},
     "outputs": [],
     "prompt_number": 9
    },
    {
     "cell_type": "code",
     "collapsed": false,
     "input": [
      "def in_conv_hull(basis, point):\n",
      "    \n",
      "    m = basis[:,0].size\n",
      "    n = basis[0,:].size\n",
      "    \n",
      "    C = np.array(basis)\n",
      "    d = np.array(point)\n",
      "    A = None\n",
      "    b = None\n",
      "    \n",
      "#     Aeq = np.ones(1,d_basis)\n",
      "#     beq = np.ones(1,1)\n",
      "#     lb = np.zeros(d_basis,1)\n",
      "#     ub = np.ones(d_basis,1)\n",
      "    Aeq = np.ones((1, n))\n",
      "    beq = np.ones(1)\n",
      "    lb = np.zeros((n, 1))\n",
      "    ub = np.zeros((n, 1))\n",
      "    \n",
      "    print lsqlin.lsqlin(C, d, A, b, Aeq, beq, lb, ub)\n",
      "    \n",
      "#     x, res, rank, s = np.linalg.lstsq(basis, point, 1)\n",
      "    \n",
      "#     print x\n",
      "#     print res\n",
      "#     print rank\n",
      "#     print s\n",
      "#     print np.linalg.norm(res)**2\n",
      "    \n",
      "#     return np.linalg.norm(res)**2 <= 1e7\n"
     ],
     "language": "python",
     "metadata": {},
     "outputs": [],
     "prompt_number": 23
    },
    {
     "cell_type": "code",
     "collapsed": false,
     "input": [
      "# basis = np.random.rand(3,2)\n",
      "# point = np.random.rand(3)\n",
      "\n",
      "# basis = [[0,0], [0,3], [4,0]]\n",
      "# basis = [[0, 0, 4], [0, 3, 0]]\n",
      "# point = [1,1]\n",
      "\n",
      "basis = [[0.8, 0.1, 0.1], [0.1, 0.8, 0.1], [0.1, 0.1, 0.8]]\n",
      "point = [0.9, 0.05, 0.05]\n",
      "\n",
      "print basis\n",
      "print point\n",
      "in_conv_hull(basis, point)"
     ],
     "language": "python",
     "metadata": {},
     "outputs": [
      {
       "output_type": "stream",
       "stream": "stdout",
       "text": [
        "[[0.8, 0.1, 0.1], [0.1, 0.8, 0.1], [0.1, 0.1, 0.8]]\n",
        "[0.9, 0.05, 0.05]\n",
        "[ 1.14285714 -0.07142857 -0.07142857]\n",
        "[]\n",
        "3\n",
        "[ 1.   0.7  0.7]\n",
        "0.0\n"
       ]
      },
      {
       "metadata": {},
       "output_type": "pyout",
       "prompt_number": 28,
       "text": [
        "True"
       ]
      }
     ],
     "prompt_number": 28
    },
    {
     "cell_type": "code",
     "collapsed": false,
     "input": [
      "basis = np.array([[0.8, 0.1, 0.1], [0.1, 0.8, 0.1], [0.1, 0.1, 0.8]])\n",
      "point = np.array([0.9, 0.05, 0.05])\n",
      "\n",
      "in_conv_hull(basis, point)"
     ],
     "language": "python",
     "metadata": {},
     "outputs": [
      {
       "ename": "TypeError",
       "evalue": "'G' must be a 'd' matrix of size (6, 3)",
       "output_type": "pyerr",
       "traceback": [
        "\u001b[0;31m---------------------------------------------------------------------------\u001b[0m\n\u001b[0;31mTypeError\u001b[0m                                 Traceback (most recent call last)",
        "\u001b[0;32m<ipython-input-24-8ee0a5373cbc>\u001b[0m in \u001b[0;36m<module>\u001b[0;34m()\u001b[0m\n\u001b[1;32m      2\u001b[0m \u001b[0mpoint\u001b[0m \u001b[0;34m=\u001b[0m \u001b[0mnp\u001b[0m\u001b[0;34m.\u001b[0m\u001b[0marray\u001b[0m\u001b[0;34m(\u001b[0m\u001b[0;34m[\u001b[0m\u001b[0;36m0.9\u001b[0m\u001b[0;34m,\u001b[0m \u001b[0;36m0.05\u001b[0m\u001b[0;34m,\u001b[0m \u001b[0;36m0.05\u001b[0m\u001b[0;34m]\u001b[0m\u001b[0;34m)\u001b[0m\u001b[0;34m\u001b[0m\u001b[0m\n\u001b[1;32m      3\u001b[0m \u001b[0;34m\u001b[0m\u001b[0m\n\u001b[0;32m----> 4\u001b[0;31m \u001b[0min_conv_hull\u001b[0m\u001b[0;34m(\u001b[0m\u001b[0mbasis\u001b[0m\u001b[0;34m,\u001b[0m \u001b[0mpoint\u001b[0m\u001b[0;34m)\u001b[0m\u001b[0;34m\u001b[0m\u001b[0m\n\u001b[0m",
        "\u001b[0;32m<ipython-input-23-997db45b3689>\u001b[0m in \u001b[0;36min_conv_hull\u001b[0;34m(basis, point)\u001b[0m\n\u001b[1;32m     18\u001b[0m     \u001b[0mub\u001b[0m \u001b[0;34m=\u001b[0m \u001b[0mnp\u001b[0m\u001b[0;34m.\u001b[0m\u001b[0mzeros\u001b[0m\u001b[0;34m(\u001b[0m\u001b[0;34m(\u001b[0m\u001b[0mn\u001b[0m\u001b[0;34m,\u001b[0m \u001b[0;36m1\u001b[0m\u001b[0;34m)\u001b[0m\u001b[0;34m)\u001b[0m\u001b[0;34m\u001b[0m\u001b[0m\n\u001b[1;32m     19\u001b[0m \u001b[0;34m\u001b[0m\u001b[0m\n\u001b[0;32m---> 20\u001b[0;31m     \u001b[0;32mprint\u001b[0m \u001b[0mlsqlin\u001b[0m\u001b[0;34m.\u001b[0m\u001b[0mlsqlin\u001b[0m\u001b[0;34m(\u001b[0m\u001b[0mC\u001b[0m\u001b[0;34m,\u001b[0m \u001b[0md\u001b[0m\u001b[0;34m,\u001b[0m \u001b[0mA\u001b[0m\u001b[0;34m,\u001b[0m \u001b[0mb\u001b[0m\u001b[0;34m,\u001b[0m \u001b[0mAeq\u001b[0m\u001b[0;34m,\u001b[0m \u001b[0mbeq\u001b[0m\u001b[0;34m,\u001b[0m \u001b[0mlb\u001b[0m\u001b[0;34m,\u001b[0m \u001b[0mub\u001b[0m\u001b[0;34m)\u001b[0m\u001b[0;34m\u001b[0m\u001b[0m\n\u001b[0m\u001b[1;32m     21\u001b[0m \u001b[0;34m\u001b[0m\u001b[0m\n\u001b[1;32m     22\u001b[0m \u001b[0;31m#     x, res, rank, s = np.linalg.lstsq(basis, point, 1)\u001b[0m\u001b[0;34m\u001b[0m\u001b[0;34m\u001b[0m\u001b[0m\n",
        "\u001b[0;32m/Users/jming/Documents/thesis/explore-ipynb/lsqlin.pyc\u001b[0m in \u001b[0;36mlsqlin\u001b[0;34m(C, d, reg, A, b, Aeq, beq, lb, ub, x0, opts)\u001b[0m\n\u001b[1;32m    174\u001b[0m     \u001b[0mAeq\u001b[0m \u001b[0;34m=\u001b[0m \u001b[0mnumpy_to_cvxopt_matrix\u001b[0m\u001b[0;34m(\u001b[0m\u001b[0mAeq\u001b[0m\u001b[0;34m)\u001b[0m\u001b[0;34m\u001b[0m\u001b[0m\n\u001b[1;32m    175\u001b[0m     \u001b[0mb\u001b[0m \u001b[0;34m=\u001b[0m   \u001b[0mnumpy_to_cvxopt_matrix\u001b[0m\u001b[0;34m(\u001b[0m\u001b[0mb\u001b[0m\u001b[0;34m)\u001b[0m\u001b[0;34m\u001b[0m\u001b[0m\n\u001b[0;32m--> 176\u001b[0;31m     \u001b[0mbeq\u001b[0m \u001b[0;34m=\u001b[0m \u001b[0mnumpy_to_cvxopt_matrix\u001b[0m\u001b[0;34m(\u001b[0m\u001b[0mbeq\u001b[0m\u001b[0;34m)\u001b[0m\u001b[0;34m\u001b[0m\u001b[0m\n\u001b[0m\u001b[1;32m    177\u001b[0m \u001b[0;34m\u001b[0m\u001b[0m\n\u001b[1;32m    178\u001b[0m     \u001b[0;31m#Set up options\u001b[0m\u001b[0;34m\u001b[0m\u001b[0;34m\u001b[0m\u001b[0m\n",
        "\u001b[0;32m/Users/jming/anaconda/lib/python2.7/site-packages/cvxopt-1.1.7-py2.7-macosx-10.5-x86_64.egg/cvxopt/coneprog.pyc\u001b[0m in \u001b[0;36mqp\u001b[0;34m(P, q, G, h, A, b, solver, initvals)\u001b[0m\n\u001b[1;32m   4483\u001b[0m             'residual as dual infeasibility certificate': dinfres} \n\u001b[1;32m   4484\u001b[0m \u001b[0;34m\u001b[0m\u001b[0m\n\u001b[0;32m-> 4485\u001b[0;31m     \u001b[0;32mreturn\u001b[0m \u001b[0mconeqp\u001b[0m\u001b[0;34m(\u001b[0m\u001b[0mP\u001b[0m\u001b[0;34m,\u001b[0m \u001b[0mq\u001b[0m\u001b[0;34m,\u001b[0m \u001b[0mG\u001b[0m\u001b[0;34m,\u001b[0m \u001b[0mh\u001b[0m\u001b[0;34m,\u001b[0m \u001b[0mNone\u001b[0m\u001b[0;34m,\u001b[0m \u001b[0mA\u001b[0m\u001b[0;34m,\u001b[0m  \u001b[0mb\u001b[0m\u001b[0;34m,\u001b[0m \u001b[0minitvals\u001b[0m\u001b[0;34m)\u001b[0m\u001b[0;34m\u001b[0m\u001b[0m\n\u001b[0m",
        "\u001b[0;32m/Users/jming/anaconda/lib/python2.7/site-packages/cvxopt-1.1.7-py2.7-macosx-10.5-x86_64.egg/cvxopt/coneprog.pyc\u001b[0m in \u001b[0;36mconeqp\u001b[0;34m(P, q, G, h, dims, A, b, initvals, kktsolver, xnewcopy, xdot, xaxpy, xscal, ynewcopy, ydot, yaxpy, yscal)\u001b[0m\n\u001b[1;32m   1897\u001b[0m         \u001b[0;32mif\u001b[0m \u001b[0mG\u001b[0m\u001b[0;34m.\u001b[0m\u001b[0mtypecode\u001b[0m \u001b[0;34m!=\u001b[0m \u001b[0;34m'd'\u001b[0m \u001b[0;32mor\u001b[0m \u001b[0mG\u001b[0m\u001b[0;34m.\u001b[0m\u001b[0msize\u001b[0m \u001b[0;34m!=\u001b[0m \u001b[0;34m(\u001b[0m\u001b[0mcdim\u001b[0m\u001b[0;34m,\u001b[0m \u001b[0mq\u001b[0m\u001b[0;34m.\u001b[0m\u001b[0msize\u001b[0m\u001b[0;34m[\u001b[0m\u001b[0;36m0\u001b[0m\u001b[0;34m]\u001b[0m\u001b[0;34m)\u001b[0m\u001b[0;34m:\u001b[0m\u001b[0;34m\u001b[0m\u001b[0m\n\u001b[1;32m   1898\u001b[0m             raise TypeError(\"'G' must be a 'd' matrix of size (%d, %d)\"\\\n\u001b[0;32m-> 1899\u001b[0;31m                 %(cdim, q.size[0]))\n\u001b[0m\u001b[1;32m   1900\u001b[0m         \u001b[0;32mdef\u001b[0m \u001b[0mfG\u001b[0m\u001b[0;34m(\u001b[0m\u001b[0mx\u001b[0m\u001b[0;34m,\u001b[0m \u001b[0my\u001b[0m\u001b[0;34m,\u001b[0m \u001b[0mtrans\u001b[0m \u001b[0;34m=\u001b[0m \u001b[0;34m'N'\u001b[0m\u001b[0;34m,\u001b[0m \u001b[0malpha\u001b[0m \u001b[0;34m=\u001b[0m \u001b[0;36m1.0\u001b[0m\u001b[0;34m,\u001b[0m \u001b[0mbeta\u001b[0m \u001b[0;34m=\u001b[0m \u001b[0;36m0.0\u001b[0m\u001b[0;34m)\u001b[0m\u001b[0;34m:\u001b[0m\u001b[0;34m\u001b[0m\u001b[0m\n\u001b[1;32m   1901\u001b[0m             misc.sgemv(G, x, y, dims, trans = trans, alpha = alpha, \n",
        "\u001b[0;31mTypeError\u001b[0m: 'G' must be a 'd' matrix of size (6, 3)"
       ]
      }
     ],
     "prompt_number": 24
    },
    {
     "cell_type": "code",
     "collapsed": false,
     "input": [
      "B1 = np.array([[0.8, 0.1, 0.1], [0.1, 0.8, 0.1], [0.1, 0.1, 0.8]])\n",
      "C = B1\n",
      "d = np.array([0.9, 0.05, 0.05])\n",
      "A = np.array([])\n",
      "b = np.array([])\n",
      "\n",
      "Aeq = np.array([1, 1, 1])\n",
      "beq = np.array([1])\n",
      "lb = np.array([0, 0, 0])\n",
      "ub = np.array([1, 1, 1])\n",
      "\n",
      "# [x, resnorm, residual, exitflag, output, lambd] = \n",
      "print lsqlin.lsqlin(C, d, A=A, b=b, Aeq=Aeq, beq=beq, lb=lb, ub=ub)"
     ],
     "language": "python",
     "metadata": {},
     "outputs": [
      {
       "ename": "ValueError",
       "evalue": "all the input array dimensions except for the concatenation axis must match exactly",
       "output_type": "pyerr",
       "traceback": [
        "\u001b[0;31m---------------------------------------------------------------------------\u001b[0m\n\u001b[0;31mValueError\u001b[0m                                Traceback (most recent call last)",
        "\u001b[0;32m<ipython-input-20-661ed5932c33>\u001b[0m in \u001b[0;36m<module>\u001b[0;34m()\u001b[0m\n\u001b[1;32m     11\u001b[0m \u001b[0;34m\u001b[0m\u001b[0m\n\u001b[1;32m     12\u001b[0m \u001b[0;31m# [x, resnorm, residual, exitflag, output, lambd] =\u001b[0m\u001b[0;34m\u001b[0m\u001b[0;34m\u001b[0m\u001b[0m\n\u001b[0;32m---> 13\u001b[0;31m \u001b[0;32mprint\u001b[0m \u001b[0mlsqlin\u001b[0m\u001b[0;34m.\u001b[0m\u001b[0mlsqlin\u001b[0m\u001b[0;34m(\u001b[0m\u001b[0mC\u001b[0m\u001b[0;34m,\u001b[0m \u001b[0md\u001b[0m\u001b[0;34m,\u001b[0m \u001b[0mA\u001b[0m\u001b[0;34m=\u001b[0m\u001b[0mA\u001b[0m\u001b[0;34m,\u001b[0m \u001b[0mb\u001b[0m\u001b[0;34m=\u001b[0m\u001b[0mb\u001b[0m\u001b[0;34m,\u001b[0m \u001b[0mAeq\u001b[0m\u001b[0;34m=\u001b[0m\u001b[0mAeq\u001b[0m\u001b[0;34m,\u001b[0m \u001b[0mbeq\u001b[0m\u001b[0;34m=\u001b[0m\u001b[0mbeq\u001b[0m\u001b[0;34m,\u001b[0m \u001b[0mlb\u001b[0m\u001b[0;34m=\u001b[0m\u001b[0mlb\u001b[0m\u001b[0;34m,\u001b[0m \u001b[0mub\u001b[0m\u001b[0;34m=\u001b[0m\u001b[0mub\u001b[0m\u001b[0;34m)\u001b[0m\u001b[0;34m\u001b[0m\u001b[0m\n\u001b[0m",
        "\u001b[0;32m/Users/jming/Documents/thesis/explore-ipynb/lsqlin.pyc\u001b[0m in \u001b[0;36mlsqlin\u001b[0;34m(C, d, reg, A, b, Aeq, beq, lb, ub, x0, opts)\u001b[0m\n\u001b[1;32m    149\u001b[0m         \u001b[0;32melse\u001b[0m\u001b[0;34m:\u001b[0m\u001b[0;34m\u001b[0m\u001b[0m\n\u001b[1;32m    150\u001b[0m             \u001b[0mlb_A\u001b[0m \u001b[0;34m=\u001b[0m \u001b[0;34m-\u001b[0m\u001b[0mnp\u001b[0m\u001b[0;34m.\u001b[0m\u001b[0meye\u001b[0m\u001b[0;34m(\u001b[0m\u001b[0mnvars\u001b[0m\u001b[0;34m)\u001b[0m\u001b[0;34m\u001b[0m\u001b[0m\n\u001b[0;32m--> 151\u001b[0;31m             \u001b[0mA\u001b[0m \u001b[0;34m=\u001b[0m \u001b[0mnumpy_None_vstack\u001b[0m\u001b[0;34m(\u001b[0m\u001b[0mA\u001b[0m\u001b[0;34m,\u001b[0m \u001b[0mlb_A\u001b[0m\u001b[0;34m)\u001b[0m\u001b[0;34m\u001b[0m\u001b[0m\n\u001b[0m\u001b[1;32m    152\u001b[0m         \u001b[0mb\u001b[0m \u001b[0;34m=\u001b[0m \u001b[0mnumpy_None_concatenate\u001b[0m\u001b[0;34m(\u001b[0m\u001b[0mb\u001b[0m\u001b[0;34m,\u001b[0m \u001b[0;34m-\u001b[0m\u001b[0mlb\u001b[0m\u001b[0;34m)\u001b[0m\u001b[0;34m\u001b[0m\u001b[0m\n\u001b[1;32m    153\u001b[0m     \u001b[0;32mif\u001b[0m \u001b[0mub\u001b[0m \u001b[0;32mis\u001b[0m \u001b[0;32mnot\u001b[0m \u001b[0mNone\u001b[0m\u001b[0;34m:\u001b[0m  \u001b[0;31m#Modify 'A' and 'b' to add ub inequalities\u001b[0m\u001b[0;34m\u001b[0m\u001b[0m\n",
        "\u001b[0;32m/Users/jming/Documents/thesis/explore-ipynb/lsqlin.pyc\u001b[0m in \u001b[0;36mnumpy_None_vstack\u001b[0;34m(A1, A2)\u001b[0m\n\u001b[1;32m     41\u001b[0m         \u001b[0;32mreturn\u001b[0m \u001b[0mA2\u001b[0m\u001b[0;34m\u001b[0m\u001b[0m\n\u001b[1;32m     42\u001b[0m     \u001b[0;32melse\u001b[0m\u001b[0;34m:\u001b[0m\u001b[0;34m\u001b[0m\u001b[0m\n\u001b[0;32m---> 43\u001b[0;31m         \u001b[0;32mreturn\u001b[0m \u001b[0mnp\u001b[0m\u001b[0;34m.\u001b[0m\u001b[0mvstack\u001b[0m\u001b[0;34m(\u001b[0m\u001b[0;34m[\u001b[0m\u001b[0mA1\u001b[0m\u001b[0;34m,\u001b[0m \u001b[0mA2\u001b[0m\u001b[0;34m]\u001b[0m\u001b[0;34m)\u001b[0m\u001b[0;34m\u001b[0m\u001b[0m\n\u001b[0m\u001b[1;32m     44\u001b[0m \u001b[0;34m\u001b[0m\u001b[0m\n\u001b[1;32m     45\u001b[0m \u001b[0;32mdef\u001b[0m \u001b[0mnumpy_None_concatenate\u001b[0m\u001b[0;34m(\u001b[0m\u001b[0mA1\u001b[0m\u001b[0;34m,\u001b[0m \u001b[0mA2\u001b[0m\u001b[0;34m)\u001b[0m\u001b[0;34m:\u001b[0m\u001b[0;34m\u001b[0m\u001b[0m\n",
        "\u001b[0;32m/Users/jming/anaconda/lib/python2.7/site-packages/numpy/core/shape_base.pyc\u001b[0m in \u001b[0;36mvstack\u001b[0;34m(tup)\u001b[0m\n\u001b[1;32m    226\u001b[0m \u001b[0;34m\u001b[0m\u001b[0m\n\u001b[1;32m    227\u001b[0m     \"\"\"\n\u001b[0;32m--> 228\u001b[0;31m     \u001b[0;32mreturn\u001b[0m \u001b[0m_nx\u001b[0m\u001b[0;34m.\u001b[0m\u001b[0mconcatenate\u001b[0m\u001b[0;34m(\u001b[0m\u001b[0;34m[\u001b[0m\u001b[0matleast_2d\u001b[0m\u001b[0;34m(\u001b[0m\u001b[0m_m\u001b[0m\u001b[0;34m)\u001b[0m \u001b[0;32mfor\u001b[0m \u001b[0m_m\u001b[0m \u001b[0;32min\u001b[0m \u001b[0mtup\u001b[0m\u001b[0;34m]\u001b[0m\u001b[0;34m,\u001b[0m \u001b[0;36m0\u001b[0m\u001b[0;34m)\u001b[0m\u001b[0;34m\u001b[0m\u001b[0m\n\u001b[0m\u001b[1;32m    229\u001b[0m \u001b[0;34m\u001b[0m\u001b[0m\n\u001b[1;32m    230\u001b[0m \u001b[0;32mdef\u001b[0m \u001b[0mhstack\u001b[0m\u001b[0;34m(\u001b[0m\u001b[0mtup\u001b[0m\u001b[0;34m)\u001b[0m\u001b[0;34m:\u001b[0m\u001b[0;34m\u001b[0m\u001b[0m\n",
        "\u001b[0;31mValueError\u001b[0m: all the input array dimensions except for the concatenation axis must match exactly"
       ]
      }
     ],
     "prompt_number": 20
    },
    {
     "cell_type": "code",
     "collapsed": false,
     "input": [
      "C = np.array(np.mat('''0.9501,0.7620,0.6153,0.4057;\n",
      "0.2311,0.4564,0.7919,0.9354;\n",
      "0.6068,0.0185,0.9218,0.9169;\n",
      "0.4859,0.8214,0.7382,0.4102;\n",
      "0.8912,0.4447,0.1762,0.8936'''))\n",
      " \n",
      "A = np.array(np.mat('''0.2027,0.2721,0.7467,0.4659;\n",
      "0.1987,0.1988,0.4450,0.4186;\n",
      "0.6037,0.0152,0.9318,0.8462'''))\n",
      "d = np.array([0.0578, 0.3528, 0.8131, 0.0098, 0.1388])\n",
      "b =  np.array([0.5251, 0.2026, 0.6721])\n",
      "lb = np.array([-0.1] * 4)\n",
      "ub = np.array([2] * 4)\n",
      " \n",
      "ret = lsqlin.lsqlin(C, d, 0, A, b, None, None, \\\n",
      "         lb, ub, None, {'show_progress': False})\n",
      "print ret['x'].T"
     ],
     "language": "python",
     "metadata": {},
     "outputs": [
      {
       "output_type": "stream",
       "stream": "stdout",
       "text": [
        "[-1.00e-01 -1.00e-01  2.15e-01  3.50e-01]\n",
        "\n"
       ]
      }
     ],
     "prompt_number": 18
    },
    {
     "cell_type": "code",
     "collapsed": false,
     "input": [
      "def count_incl(config, anchor_set):\n",
      "    \n",
      "    incl = []\n",
      "    anchors = [config[a] for a in anchor_set]\n",
      "    \n",
      "    for point in config:\n",
      "        \n",
      "        incl.append(in_conv_hull(anchors, point))\n",
      "        \n",
      "        # check if point = sum c*a for each anchor a, where sum c = 1, c = 0 \n",
      "        \n",
      "    return sum(incl)"
     ],
     "language": "python",
     "metadata": {},
     "outputs": [],
     "prompt_number": 16
    },
    {
     "cell_type": "code",
     "collapsed": false,
     "input": [
      "projection_find(M, 20, candidates)"
     ],
     "language": "python",
     "metadata": {},
     "outputs": [
      {
       "output_type": "stream",
       "stream": "stdout",
       "text": [
        "initializing variables 1422041280.81\n",
        "initializing coordinate system 1422041280.83\n",
        "finding elements of basis"
       ]
      },
      {
       "output_type": "stream",
       "stream": "stdout",
       "text": [
        " 1422041280.87\n",
        "updating anchors"
       ]
      },
      {
       "output_type": "stream",
       "stream": "stdout",
       "text": [
        " 1422041281.87\n",
        "finishing up"
       ]
      },
      {
       "output_type": "stream",
       "stream": "stdout",
       "text": [
        "\n"
       ]
      },
      {
       "metadata": {},
       "output_type": "pyout",
       "prompt_number": 26,
       "text": [
        "([array([  0.00000000e+00,   0.00000000e+00,   0.00000000e+00, ...,\n",
        "           3.24305286e-05,   0.00000000e+00,   0.00000000e+00]),\n",
        "  array([  0.00000000e+00,   0.00000000e+00,   0.00000000e+00, ...,\n",
        "           3.24305286e-05,   0.00000000e+00,   0.00000000e+00]),\n",
        "  array([  0.00000000e+00,   0.00000000e+00,   0.00000000e+00, ...,\n",
        "           3.24305286e-05,   0.00000000e+00,   0.00000000e+00]),\n",
        "  array([  0.00000000e+00,   0.00000000e+00,   0.00000000e+00, ...,\n",
        "           3.24305286e-05,   0.00000000e+00,   0.00000000e+00]),\n",
        "  array([  0.00000000e+00,   0.00000000e+00,   0.00000000e+00, ...,\n",
        "           3.24305286e-05,   0.00000000e+00,   0.00000000e+00]),\n",
        "  array([  0.00000000e+00,   0.00000000e+00,   0.00000000e+00, ...,\n",
        "           3.24305286e-05,   0.00000000e+00,   0.00000000e+00]),\n",
        "  array([  0.00000000e+00,   0.00000000e+00,   0.00000000e+00, ...,\n",
        "           3.24305286e-05,   0.00000000e+00,   0.00000000e+00]),\n",
        "  array([  0.00000000e+00,   0.00000000e+00,   0.00000000e+00, ...,\n",
        "           3.24305286e-05,   0.00000000e+00,   0.00000000e+00]),\n",
        "  array([  0.00000000e+00,   0.00000000e+00,   0.00000000e+00, ...,\n",
        "           3.24305286e-05,   0.00000000e+00,   0.00000000e+00]),\n",
        "  array([  0.00000000e+00,   0.00000000e+00,   0.00000000e+00, ...,\n",
        "           3.24305286e-05,   0.00000000e+00,   0.00000000e+00]),\n",
        "  array([  0.00000000e+00,   0.00000000e+00,   0.00000000e+00, ...,\n",
        "           3.24305286e-05,   0.00000000e+00,   0.00000000e+00]),\n",
        "  array([  0.00000000e+00,   0.00000000e+00,   0.00000000e+00, ...,\n",
        "           3.24305286e-05,   0.00000000e+00,   0.00000000e+00]),\n",
        "  array([  0.00000000e+00,   0.00000000e+00,   0.00000000e+00, ...,\n",
        "           3.24305286e-05,   0.00000000e+00,   0.00000000e+00]),\n",
        "  array([  0.00000000e+00,   0.00000000e+00,   0.00000000e+00, ...,\n",
        "           3.24305286e-05,   0.00000000e+00,   0.00000000e+00]),\n",
        "  array([  0.00000000e+00,   0.00000000e+00,   0.00000000e+00, ...,\n",
        "           3.24305286e-05,   0.00000000e+00,   0.00000000e+00]),\n",
        "  array([  0.00000000e+00,   0.00000000e+00,   0.00000000e+00, ...,\n",
        "           3.24305286e-05,   0.00000000e+00,   0.00000000e+00]),\n",
        "  array([  0.00000000e+00,   0.00000000e+00,   0.00000000e+00, ...,\n",
        "           3.24305286e-05,   0.00000000e+00,   0.00000000e+00]),\n",
        "  array([  0.00000000e+00,   0.00000000e+00,   0.00000000e+00, ...,\n",
        "           3.24305286e-05,   0.00000000e+00,   0.00000000e+00]),\n",
        "  array([  0.00000000e+00,   0.00000000e+00,   0.00000000e+00, ...,\n",
        "           3.24305286e-05,   0.00000000e+00,   0.00000000e+00]),\n",
        "  array([  4.30421205e-05,   0.00000000e+00,   4.01993814e-06, ...,\n",
        "           4.28786999e-06,   0.00000000e+00,   9.35722229e-07])],\n",
        " [0.0,\n",
        "  0.0,\n",
        "  0.0,\n",
        "  0.0,\n",
        "  0.0,\n",
        "  0.0,\n",
        "  0.0,\n",
        "  0.0,\n",
        "  0.0,\n",
        "  0.0,\n",
        "  0.0,\n",
        "  0.0,\n",
        "  0.0,\n",
        "  0.0,\n",
        "  0.0,\n",
        "  0.0,\n",
        "  0.0,\n",
        "  0.0,\n",
        "  0.0,\n",
        "  2808.0])"
       ]
      }
     ],
     "prompt_number": 26
    },
    {
     "cell_type": "code",
     "collapsed": false,
     "input": [
      "def calc_vars(M, n):\n",
      "    \n",
      "    rows,cols = M.shape\n",
      "    var = np.zeros((rows, cols))\n",
      "    \n",
      "    for i in range(rows):\n",
      "        \n",
      "        p_i = sum(M[i])\n",
      "        \n",
      "        for j in range(cols):\n",
      "            \n",
      "            if i == j:\n",
      "                \n",
      "                var[i][j] = n * ( -2 * p_i**2 + 8 * p_i**3 - 6 * p_i**4) +\\\n",
      "                            n**3 * (4 * p_i**3 - 4 * p_i**4) +\\\n",
      "                            n**2 * (2 * p_i**2 - 12 * p_i**3 + 10 * p_i**4)\n",
      "            else:\n",
      "                \n",
      "                p_j = sum(M[j])\n",
      "                var[i][j] = n**3 * (p_i**2 * p_j + p_i * p_j**2 - 4 * p_i**2 * p_j**2) +\\\n",
      "                            n**2 * (p_i * p_j + 10 * p_i**2 * p_j**2 - 3 * ( p_i**2 * p_j + p_i * p_j**2)) +\\\n",
      "                            n * (-p_i * p_j - 6 * p_i**2 * p_j**2 + 2 * (p_i**2 * p_j + p_i * p_j**2))\n",
      "    \n",
      "    return var"
     ],
     "language": "python",
     "metadata": {},
     "outputs": [],
     "prompt_number": 30
    },
    {
     "cell_type": "code",
     "collapsed": false,
     "input": [
      "var = calc_vars(M, 5)"
     ],
     "language": "python",
     "metadata": {},
     "outputs": [],
     "prompt_number": 31
    },
    {
     "cell_type": "code",
     "collapsed": false,
     "input": [
      "print var"
     ],
     "language": "python",
     "metadata": {},
     "outputs": [
      {
       "output_type": "stream",
       "stream": "stdout",
       "text": [
        "[[  2.84217094e-13  -1.40000000e+02  -1.40000000e+02 ...,  -1.40000000e+02\n",
        "   -1.40000000e+02  -1.40000000e+02]\n",
        " [ -1.40000000e+02  -1.20792265e-12  -1.40000000e+02 ...,  -1.40000000e+02\n",
        "   -1.40000000e+02  -1.40000000e+02]\n",
        " [ -1.40000000e+02  -1.40000000e+02  -3.55271368e-13 ...,  -1.40000000e+02\n",
        "   -1.40000000e+02  -1.40000000e+02]\n",
        " ..., \n",
        " [ -1.40000000e+02  -1.40000000e+02  -1.40000000e+02 ...,  -2.84217094e-13\n",
        "   -1.40000000e+02  -1.40000000e+02]\n",
        " [ -1.40000000e+02  -1.40000000e+02  -1.40000000e+02 ...,  -1.40000000e+02\n",
        "    2.84217094e-13  -1.40000000e+02]\n",
        " [ -1.40000000e+02  -1.40000000e+02  -1.40000000e+02 ...,  -1.40000000e+02\n",
        "   -1.40000000e+02  -2.84217094e-13]]\n"
       ]
      }
     ],
     "prompt_number": 35
    },
    {
     "cell_type": "code",
     "collapsed": false,
     "input": [
      "np.savetxt(\"../pipeline/result_out.20.var\", var)"
     ],
     "language": "python",
     "metadata": {},
     "outputs": [],
     "prompt_number": 36
    },
    {
     "cell_type": "code",
     "collapsed": false,
     "input": [],
     "language": "python",
     "metadata": {},
     "outputs": []
    }
   ],
   "metadata": {}
  }
 ]
}
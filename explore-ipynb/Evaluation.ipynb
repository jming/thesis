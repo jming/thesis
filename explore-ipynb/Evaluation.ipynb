{
 "metadata": {
  "name": "",
  "signature": "sha256:9a3a55d7a5dd2c56a4d12249cd0d80cf7146f8b0141b4a411212811147ec6dcd"
 },
 "nbformat": 3,
 "nbformat_minor": 0,
 "worksheets": [
  {
   "cells": [
    {
     "cell_type": "code",
     "collapsed": false,
     "input": [
      "import numpy as np\n",
      "from sklearn import cross_validation\n",
      "from sklearn import datasets\n",
      "from sklearn import svm"
     ],
     "language": "python",
     "metadata": {},
     "outputs": [],
     "prompt_number": 1
    },
    {
     "cell_type": "code",
     "collapsed": false,
     "input": [
      "import scipy.optimize"
     ],
     "language": "python",
     "metadata": {},
     "outputs": [],
     "prompt_number": 15
    },
    {
     "cell_type": "code",
     "collapsed": false,
     "input": [
      "iris = datasets.load_iris()\n",
      "iris.data.shape, iris.target.shape"
     ],
     "language": "python",
     "metadata": {},
     "outputs": [
      {
       "metadata": {},
       "output_type": "pyout",
       "prompt_number": 2,
       "text": [
        "((150, 4), (150,))"
       ]
      }
     ],
     "prompt_number": 2
    },
    {
     "cell_type": "code",
     "collapsed": false,
     "input": [
      "X_train, X_test, y_train, y_test = cross_validation.train_test_split(iris.data, iris.target, test_size=0.4, random_state=0)"
     ],
     "language": "python",
     "metadata": {},
     "outputs": [],
     "prompt_number": 3
    },
    {
     "cell_type": "code",
     "collapsed": false,
     "input": [
      "X_train.shape, y_train.shape"
     ],
     "language": "python",
     "metadata": {},
     "outputs": [
      {
       "metadata": {},
       "output_type": "pyout",
       "prompt_number": 4,
       "text": [
        "((90, 4), (90,))"
       ]
      }
     ],
     "prompt_number": 4
    },
    {
     "cell_type": "code",
     "collapsed": false,
     "input": [
      "X_test.shape, y_test.shape"
     ],
     "language": "python",
     "metadata": {},
     "outputs": [
      {
       "metadata": {},
       "output_type": "pyout",
       "prompt_number": 5,
       "text": [
        "((60, 4), (60,))"
       ]
      }
     ],
     "prompt_number": 5
    },
    {
     "cell_type": "code",
     "collapsed": false,
     "input": [
      "clf = svm.SVC(kernel='linear', C=1).fit(X_train, y_train)\n",
      "clf.score(X_test, y_test)"
     ],
     "language": "python",
     "metadata": {},
     "outputs": [
      {
       "metadata": {},
       "output_type": "pyout",
       "prompt_number": 7,
       "text": [
        "0.96666666666666667"
       ]
      }
     ],
     "prompt_number": 7
    },
    {
     "cell_type": "code",
     "collapsed": false,
     "input": [
      "kf = cross_validation.KFold(20, n_folds=5)\n",
      "for train, test in kf:\n",
      "    print train,test"
     ],
     "language": "python",
     "metadata": {},
     "outputs": [
      {
       "output_type": "stream",
       "stream": "stdout",
       "text": [
        "[ 4  5  6  7  8  9 10 11 12 13 14 15 16 17 18 19] [0 1 2 3]\n",
        "[ 0  1  2  3  8  9 10 11 12 13 14 15 16 17 18 19] [4 5 6 7]\n",
        "[ 0  1  2  3  4  5  6  7 12 13 14 15 16 17 18 19] [ 8  9 10 11]\n",
        "[ 0  1  2  3  4  5  6  7  8  9 10 11 16 17 18 19] [12 13 14 15]\n",
        "[ 0  1  2  3  4  5  6  7  8  9 10 11 12 13 14 15] [16 17 18 19]\n"
       ]
      }
     ],
     "prompt_number": 9
    },
    {
     "cell_type": "raw",
     "metadata": {},
     "source": [
      "for cross-validation, just to confirm:\n",
      "\n",
      "create different folds that are separating different forum posts into training and test sets\n",
      "\n",
      "for each fold, \n",
      "take the training data and \n",
      "    build up the Q matrix, \n",
      "    choose anchors based on Arora's algorithm => A\n",
      "    and then our algorithm => A'\n",
      "then use the test data D,\n",
      "    build up the Q matrix,\n",
      "    see how many points from the test are included in the anchors proposed by A vs A' (sampling different configurations?)\n",
      "    find Z and Z' (held-out probability, by fitting D=ZA)\n",
      "\n",
      "look at topic similarity between A and A' based on hungarian bipartite matching/L1 difference\n",
      "\n",
      "-----\n",
      "\n",
      "And then look at topic similarity between As from online medical forum and EHRs (without cross validation?)"
     ]
    },
    {
     "cell_type": "code",
     "collapsed": false,
     "input": [
      "def held_out_probability(D,A):\n",
      "    \n",
      "    def mfunc(x):\n",
      "        return np.dot(x,A) - D\n",
      "\n",
      "    def func(x, sign=1.0):\n",
      "        return np.linalg.norm(mfunc(x), ord='fro')\n",
      "\n",
      "    cons = ({'type' : 'eq',\n",
      "            'fun' : lambda x: np.array([sum(x) - 1]),\n",
      "            'jac' : lambda x: np.array([1] * x.size)},\n",
      "            {'type' : 'eq',\n",
      "             'fun' : lambda x: np.array([sum(x < 0)]),\n",
      "             'jac' : lambda x: np.array([1] * x.size)})\n",
      "\n",
      "    n = A[:,0].size\n",
      "    x0 = np.array([1./n]*n)\n",
      "\n",
      "    res = scipy.optimize.minimize(func, x0, constraints=cons)\n",
      "\n",
      "    return np.linalg.norm(mfunc(res.x), ord='fro')**2"
     ],
     "language": "python",
     "metadata": {},
     "outputs": [],
     "prompt_number": 10
    },
    {
     "cell_type": "code",
     "collapsed": false,
     "input": [
      "def hungarian_bipartite_matching(A, A_prime):\n",
      "    pass"
     ],
     "language": "python",
     "metadata": {},
     "outputs": [],
     "prompt_number": 11
    },
    {
     "cell_type": "code",
     "collapsed": false,
     "input": [
      "def L1_difference(A, A_prime):\n",
      "    pass"
     ],
     "language": "python",
     "metadata": {},
     "outputs": [],
     "prompt_number": 13
    },
    {
     "cell_type": "code",
     "collapsed": false,
     "input": [
      "def dot_pair(A, A_prime):\n",
      "    return np.linalg.norm(np.dot(A, A_prime))"
     ],
     "language": "python",
     "metadata": {},
     "outputs": [],
     "prompt_number": 14
    },
    {
     "cell_type": "code",
     "collapsed": false,
     "input": [],
     "language": "python",
     "metadata": {},
     "outputs": []
    }
   ],
   "metadata": {}
  }
 ]
}
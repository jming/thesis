{
 "metadata": {
  "name": "",
  "signature": "sha256:89cb26d7c30ca01852468238136fcca1ec1e77354ed16ebc5667cee073de5bdc"
 },
 "nbformat": 3,
 "nbformat_minor": 0,
 "worksheets": [
  {
   "cells": [
    {
     "cell_type": "code",
     "collapsed": false,
     "input": [
      "import numpy as np\n",
      "import scipy.optimize"
     ],
     "language": "python",
     "metadata": {},
     "outputs": [],
     "prompt_number": 2
    },
    {
     "cell_type": "code",
     "collapsed": false,
     "input": [
      "from operator import mul\n",
      "from math import sqrt\n",
      "import random"
     ],
     "language": "python",
     "metadata": {},
     "outputs": [],
     "prompt_number": 3
    },
    {
     "cell_type": "code",
     "collapsed": false,
     "input": [
      "import matplotlib.pyplot as plt\n",
      "%matplotlib inline \n",
      "\n",
      "# special matplotlib argument for improved plots\n",
      "from matplotlib import rcParams\n",
      "\n",
      "#colorbrewer2 Dark2 qualitative color table\n",
      "dark2_colors = [(0.10588235294117647, 0.6196078431372549, 0.4666666666666667),\n",
      "                (0.8509803921568627, 0.37254901960784315, 0.00784313725490196),\n",
      "                (0.4588235294117647, 0.4392156862745098, 0.7019607843137254),\n",
      "                (0.9058823529411765, 0.1607843137254902, 0.5411764705882353),\n",
      "                (0.4, 0.6509803921568628, 0.11764705882352941),\n",
      "                (0.9019607843137255, 0.6705882352941176, 0.00784313725490196),\n",
      "                (0.6509803921568628, 0.4627450980392157, 0.11372549019607843)]\n",
      "\n",
      "rcParams['figure.figsize'] = (10, 6)\n",
      "rcParams['figure.dpi'] = 150\n",
      "rcParams['axes.color_cycle'] = dark2_colors\n",
      "rcParams['lines.linewidth'] = 2\n",
      "rcParams['axes.facecolor'] = 'white'\n",
      "rcParams['font.size'] = 14\n",
      "rcParams['patch.edgecolor'] = 'white'\n",
      "rcParams['patch.facecolor'] = dark2_colors[0]\n",
      "rcParams['font.family'] = 'StixGeneral'"
     ],
     "language": "python",
     "metadata": {},
     "outputs": [],
     "prompt_number": 4
    },
    {
     "cell_type": "code",
     "collapsed": false,
     "input": [
      "def Projection_Find(M_orig, r, candidates, var):\n",
      "    \n",
      "    M = M_orig.copy()\n",
      "    \n",
      "    dim_n, dim_m = M_orig.shape\n",
      "    \n",
      "    configs = 10\n",
      "    tries = 20\n",
      "    k_star = 5\n",
      "    \n",
      "    config_tables = np.zeros((k_star, configs, dim_n, dim_m))\n",
      "    anchor_sets = np.zeros((tries+1, r))\n",
      "    set_evals = np.zeros(tries+1)\n",
      "    \n",
      "    # find basic anchorset\n",
      "    print 'initializing basis'\n",
      "    \n",
      "    words, basis = Projection_Find2(M, r, candidates)\n",
      "    anchor_sets[0] = basis\n",
      "    set_evals[0] = evaluate_set(M_orig, anchor_sets[0])\n",
      "    \n",
      "    print 'try', 0, set_evals[0], anchor_sets[0]\n",
      "    \n",
      "    # iterate on this anchor set\n",
      "    print 'iterate on anchor set'\n",
      "    for k in range(tries):\n",
      "        \n",
      "        # create a new set of configurations\n",
      "        if k % k_star == 0:\n",
      "            for n in range(configs):\n",
      "                config = create_config(M, var)\n",
      "                config_tables[k/k_star][n] = config\n",
      "        \n",
      "        # select an anchor to swap out\n",
      "        so = select_anchor(anchor_sets[k], var)\n",
      "        # select an anchor to swap in\n",
      "        si = select_anchor([c for c in candidates if c != so], var, anchor_sets[k])\n",
      "        \n",
      "        print 'so,si', so, si\n",
      "        \n",
      "        # evaluate the goodness of this swap\n",
      "        active_set = np.concatenate((anchor_sets[k][:so], [si], anchor_sets[k][so+1:]))\n",
      "        evals = np.zeros(configs)\n",
      "        for i,config in enumerate(config_tables[k/k_star]):\n",
      "            evals[i] = evaluate_set(config, active_set)\n",
      "        set_evals[k+1] = sum(evals)/len(evals)\n",
      "        \n",
      "#         print 'evals', set_evals[k+1], evals\n",
      "        \n",
      "        print 'try', k+1, set_evals[k+1],\n",
      "        print active_set\n",
      "        \n",
      "        # decide on whether to switch up swap\n",
      "        if set_evals[k+1] > set_evals[k]:\n",
      "            anchor_sets[k+1] = active_set\n",
      "        else:\n",
      "            anchor_sets[k+1] = anchor_sets[k]\n",
      "            # TODO: this seems awkward because saving weird values\n",
      "        \n",
      "        \n",
      "    \n",
      "    print 'finishing up'\n",
      "    \n",
      "    anchor_indices = anchor_sets[-1]\n",
      "    anchor_words = [M_orig[x] for x in anchor_indices]\n",
      "    anchor_indices_list = [ai for ai in anchor_indices]\n",
      "    \n",
      "    return (anchor_words, anchor_indices_list)"
     ],
     "language": "python",
     "metadata": {},
     "outputs": [],
     "prompt_number": 120
    },
    {
     "cell_type": "code",
     "collapsed": false,
     "input": [
      "def create_config(M, var):\n",
      "    return 2 * var * np.random.random_sample((M.shape)) - var"
     ],
     "language": "python",
     "metadata": {},
     "outputs": [],
     "prompt_number": 92
    },
    {
     "cell_type": "code",
     "collapsed": false,
     "input": [
      "def select_anchor(options, var, basis=None):\n",
      "#     print 'options', options\n",
      "    \n",
      "    probs = [sum(var[i]) for i in options]\n",
      "    probs = [p / sum(probs) for p in probs]\n",
      "    return weighted_random(probs)\n",
      "    \n",
      "#     probs = [sqrt(reduce(mul,var[i])) for i in options]\n",
      "#     print var[0]\n",
      "#     ps = [sum(var[i]==0) for i in options]\n",
      "#     pss = [sum(var[i]) for i in options]\n",
      "#     print 'ps', ps\n",
      "#     print 'pss', pss\n",
      "#     probs = [reduce(mul,var[i],1.) for i in options]\n",
      "#     print probs\n",
      "#     probss = [reduce(lambda x,y: x*y, var[i]) for i in options]\n",
      "#     print probss"
     ],
     "language": "python",
     "metadata": {},
     "outputs": [],
     "prompt_number": 128
    },
    {
     "cell_type": "code",
     "collapsed": false,
     "input": [
      "def weighted_random(probs):\n",
      "    \n",
      "    r = random.random()\n",
      "    index = 0\n",
      "    while r >= 0 and index < len(probs):\n",
      "        r -= probs[index]\n",
      "        index += 1\n",
      "    \n",
      "    return index - 1"
     ],
     "language": "python",
     "metadata": {},
     "outputs": [],
     "prompt_number": 94
    },
    {
     "cell_type": "code",
     "collapsed": false,
     "input": [
      "\n",
      "print sum([weighted_random([0.4, 0.6]) for i in range(100)])"
     ],
     "language": "python",
     "metadata": {},
     "outputs": [
      {
       "output_type": "stream",
       "stream": "stdout",
       "text": [
        "52\n"
       ]
      }
     ],
     "prompt_number": 127
    },
    {
     "cell_type": "code",
     "collapsed": false,
     "input": [
      "def evaluate_set(config, anchor_set):\n",
      "    \n",
      "    incl = []\n",
      "    anchors = np.matrix([config[a] for a in anchor_set])\n",
      "    \n",
      "    for point in config:\n",
      "        incl.append(in_conv_hull(anchors, point))\n",
      "        \n",
      "    return sum(incl)"
     ],
     "language": "python",
     "metadata": {},
     "outputs": [],
     "prompt_number": 125
    },
    {
     "cell_type": "code",
     "collapsed": false,
     "input": [
      "def in_conv_hull(b, p):\n",
      "\n",
      "    def mfunc(x):\n",
      "        return np.dot(x,b) - p\n",
      "\n",
      "    def func(x, sign=1.0):\n",
      "        return np.linalg.norm(mfunc(x), ord='fro')\n",
      "\n",
      "    bds = np.array([(0,1) for i in range(b[:,0].size)])\n",
      "\n",
      "    cons = ({'type' : 'eq',\n",
      "            'fun' : lambda x: np.array([sum(x) - 1]),\n",
      "            'jac' : lambda x: np.array([1] * x.size)})\n",
      "\n",
      "    n = b[:,0].size\n",
      "    x0 = np.array([1./n]*n)\n",
      "\n",
      "    res = scipy.optimize.minimize(func, x0, constraints=cons, bounds=bds)\n",
      "\n",
      "    return np.linalg.norm(mfunc(res.x), ord='fro')**2 <= 1e-7"
     ],
     "language": "python",
     "metadata": {},
     "outputs": [],
     "prompt_number": 96
    },
    {
     "cell_type": "code",
     "collapsed": false,
     "input": [
      "def Projection_Find2(M_orig, r, candidates):\n",
      "\n",
      "    n = M_orig[:, 0].size\n",
      "    dim = M_orig[0, :].size\n",
      "\n",
      "    M = M_orig.copy()\n",
      "    \n",
      "    # stored recovered anchor words\n",
      "    anchor_words = np.zeros((r, dim))\n",
      "    anchor_indices = np.zeros(r, dtype=np.int)\n",
      "\n",
      "    # store the basis vectors of the subspace spanned by the anchor word vectors\n",
      "    basis = np.zeros((r-1, dim))\n",
      "\n",
      "\n",
      "    # find the farthest point p1 from the origin\n",
      "    max_dist = 0\n",
      "    #for i in range(0, n):\n",
      "    for i in candidates:\n",
      "        dist = np.dot(M[i], M[i])\n",
      "        if dist > max_dist:\n",
      "            max_dist = dist\n",
      "            anchor_words[0] = M_orig[i]\n",
      "            anchor_indices[0] = i\n",
      "\n",
      "    # let p1 be the origin of our coordinate system\n",
      "    #for i in range(0, n):\n",
      "    for i in candidates:\n",
      "        M[i] = M[i] - anchor_words[0]\n",
      "\n",
      "\n",
      "    # find the farthest point from p1\n",
      "    max_dist = 0\n",
      "    #for i in range(0, n):\n",
      "    for i in candidates:\n",
      "        dist = np.dot(M[i], M[i])\n",
      "        if dist > max_dist:\n",
      "            max_dist = dist\n",
      "            anchor_words[1] = M_orig[i]\n",
      "            anchor_indices[1] = i\n",
      "            basis[0] = M[i]/np.sqrt(np.dot(M[i], M[i]))\n",
      "\n",
      "\n",
      "    # stabilized gram-schmidt which finds new anchor words to expand our subspace\n",
      "    for j in range(1, r - 1):\n",
      "\n",
      "        # project all the points onto our basis and find the farthest point\n",
      "        max_dist = 0\n",
      "        #for i in range(0, n):\n",
      "        for i in candidates:\n",
      "            M[i] = M[i] - np.dot(M[i], basis[j-1])*basis[j-1]\n",
      "            dist = np.dot(M[i], M[i])\n",
      "            if dist > max_dist:\n",
      "                max_dist = dist\n",
      "                anchor_words[j + 1] = M_orig[i]\n",
      "                anchor_indices[j + 1] = i\n",
      "                basis[j] = M[i]/np.sqrt(np.dot(M[i], M[i]))\n",
      "#     print anchor_words, anchor_indices\n",
      "                \n",
      "    # convert numpy array to python list\n",
      "    anchor_indices_list = []\n",
      "    for i in range(r):\n",
      "        anchor_indices_list.append(anchor_indices[i])\n",
      "\n",
      "#     print anchor_indices_list\n",
      "    \n",
      "    return (anchor_words, anchor_indices_list)"
     ],
     "language": "python",
     "metadata": {},
     "outputs": [],
     "prompt_number": 117
    },
    {
     "cell_type": "code",
     "collapsed": false,
     "input": [
      "print 'building test data'\n",
      "\n",
      "M_orig = []\n",
      "for i in range(10):\n",
      "    row = np.random.rand(100)\n",
      "    row = [r/sum(row) for r in row]\n",
      "    M_orig.append(row)\n",
      "M_orig = np.array(M_orig)\n",
      "\n",
      "rs = 5\n",
      "\n",
      "candidates = [x for x in range(7)]\n",
      "\n",
      "variances = []\n",
      "for i in range(10):\n",
      "    row = np.random.rand(100)\n",
      "    row = [r/1000 for r in row]\n",
      "    variances.append(row)\n",
      "variances = np.array(variances)\n",
      "\n",
      "a, b = Projection_Find(M_orig, rs, candidates, variances)\n",
      "print b\n",
      "# print Projection_Find2(M_orig, rs, candidates)"
     ],
     "language": "python",
     "metadata": {},
     "outputs": [
      {
       "output_type": "stream",
       "stream": "stdout",
       "text": [
        "building test data\n",
        "initializing basis\n",
        "try"
       ]
      },
      {
       "output_type": "stream",
       "stream": "stdout",
       "text": [
        " 0 5.0 [ 2.  1.  6.  3.  5.]\n",
        "iterate on anchor set\n",
        "so,si 4 2\n",
        "try"
       ]
      },
      {
       "output_type": "stream",
       "stream": "stdout",
       "text": [
        " 1 4.0 [ 2.  1.  6.  3.  2.]\n",
        "so,si 4 5\n",
        "try"
       ]
      },
      {
       "output_type": "stream",
       "stream": "stdout",
       "text": [
        " 2 5.0 [ 2.  1.  6.  3.  5.]\n",
        "so,si 0 2\n",
        "try"
       ]
      },
      {
       "output_type": "stream",
       "stream": "stdout",
       "text": [
        " 3 5.0 [ 2.  1.  6.  3.  5.]\n",
        "so,si 1 4\n",
        "try"
       ]
      },
      {
       "output_type": "stream",
       "stream": "stdout",
       "text": [
        " 4 5.0 [ 2.  4.  6.  3.  5.]\n",
        "so,si 3 3\n",
        "try"
       ]
      },
      {
       "output_type": "stream",
       "stream": "stdout",
       "text": [
        " 5 5.0 [ 2.  1.  6.  3.  5.]\n",
        "so,si 2 5\n",
        "try"
       ]
      },
      {
       "output_type": "stream",
       "stream": "stdout",
       "text": [
        " 6 4.0 [ 2.  1.  5.  3.  5.]\n",
        "so,si 4 5\n",
        "try"
       ]
      },
      {
       "output_type": "stream",
       "stream": "stdout",
       "text": [
        " 7 5.0 [ 2.  1.  6.  3.  5.]\n",
        "so,si 0 5\n",
        "try"
       ]
      },
      {
       "output_type": "stream",
       "stream": "stdout",
       "text": [
        " 8 4.0 [ 5.  1.  6.  3.  5.]\n",
        "so,si 0 0\n",
        "try"
       ]
      },
      {
       "output_type": "stream",
       "stream": "stdout",
       "text": [
        " 9 5.0 [ 0.  1.  6.  3.  5.]\n",
        "so,si 0 4\n",
        "try"
       ]
      },
      {
       "output_type": "stream",
       "stream": "stdout",
       "text": [
        " 10 5.0 [ 4.  1.  6.  3.  5.]\n",
        "so,si 4 1\n",
        "try"
       ]
      },
      {
       "output_type": "stream",
       "stream": "stdout",
       "text": [
        " 11 4.0 [ 0.  1.  6.  3.  1.]\n",
        "so,si 3 4\n",
        "try"
       ]
      },
      {
       "output_type": "stream",
       "stream": "stdout",
       "text": [
        " 12 5.0 [ 0.  1.  6.  4.  5.]\n",
        "so,si 2 2\n",
        "try"
       ]
      },
      {
       "output_type": "stream",
       "stream": "stdout",
       "text": [
        " 13 5.0 [ 0.  1.  2.  4.  5.]\n",
        "so,si 1 4\n",
        "try"
       ]
      },
      {
       "output_type": "stream",
       "stream": "stdout",
       "text": [
        " 14 4.0 [ 0.  4.  6.  4.  5.]\n",
        "so,si 3 1\n",
        "try"
       ]
      },
      {
       "output_type": "stream",
       "stream": "stdout",
       "text": [
        " 15 4.0 [ 0.  1.  6.  1.  5.]\n",
        "so,si 0 4\n",
        "try"
       ]
      },
      {
       "output_type": "stream",
       "stream": "stdout",
       "text": [
        " 16 4.0 [ 4.  1.  6.  4.  5.]\n",
        "so,si 0 2\n",
        "try"
       ]
      },
      {
       "output_type": "stream",
       "stream": "stdout",
       "text": [
        " 17 5.0 [ 2.  1.  6.  4.  5.]\n",
        "so,si 0 5\n",
        "try"
       ]
      },
      {
       "output_type": "stream",
       "stream": "stdout",
       "text": [
        " 18 4.0 [ 5.  1.  6.  4.  5.]\n",
        "so,si 4 2\n",
        "try"
       ]
      },
      {
       "output_type": "stream",
       "stream": "stdout",
       "text": [
        " 19 4.0 [ 2.  1.  6.  4.  2.]\n",
        "so,si 2 2\n",
        "try"
       ]
      },
      {
       "output_type": "stream",
       "stream": "stdout",
       "text": [
        " 20 4.0 [ 2.  1.  2.  4.  5.]\n",
        "finishing up\n",
        "[2.0, 1.0, 6.0, 4.0, 5.0]\n"
       ]
      }
     ],
     "prompt_number": 130
    },
    {
     "cell_type": "code",
     "collapsed": false,
     "input": [
      "# set_evals22 = np.loadtxt('../pipeline/result22/log.set_evals')\n",
      "set_evals22 = [2044.0, 2047.6, 2036.3, 2043.9, 2034.9, 2046.6, 2056.8, 2061.6, 2056.8, 2057.9, 2057.5, 2066.4, 2064.9, 2056.4, 2063.3, 2039.0, 2056.8, 2062.0, 2061.7, 2055.2]"
     ],
     "language": "python",
     "metadata": {},
     "outputs": [],
     "prompt_number": 139
    },
    {
     "cell_type": "code",
     "collapsed": false,
     "input": [
      "plt.plot(set_evals22)"
     ],
     "language": "python",
     "metadata": {},
     "outputs": [
      {
       "metadata": {},
       "output_type": "pyout",
       "prompt_number": 140,
       "text": [
        "[<matplotlib.lines.Line2D at 0x107736cd0>]"
       ]
      },
      {
       "metadata": {},
       "output_type": "display_data",
       "png": "[encoded data removed]",
       "text": [
        "<matplotlib.figure.Figure at 0x106301a10>"
       ]
      }
     ],
     "prompt_number": 140
    },
    {
     "cell_type": "code",
     "collapsed": false,
     "input": [
      "# set_evals23 = np.loadtxt('../pipeline/result22/log.set_evals')\n",
      "set_evals23 = [2043.4, 2050.0, 2048.1, 2049.4, 2047.1, 2047.4, 2046.4, 2048.1, 2049.5, 2048.5, 2054.1, 2059.5, 2060.1, 2059.3, 2059.6, 2061.4, 2067.3, 2068.2, 2072.5, 2062.3]"
     ],
     "language": "python",
     "metadata": {},
     "outputs": [],
     "prompt_number": 137
    },
    {
     "cell_type": "code",
     "collapsed": false,
     "input": [
      "plt.plot(set_evals23)"
     ],
     "language": "python",
     "metadata": {},
     "outputs": [
      {
       "metadata": {},
       "output_type": "pyout",
       "prompt_number": 138,
       "text": [
        "[<matplotlib.lines.Line2D at 0x1075ac610>]"
       ]
      },
      {
       "metadata": {},
       "output_type": "display_data",
       "png": "[encoded data removed]",
       "text": [
        "<matplotlib.figure.Figure at 0x107289c90>"
       ]
      }
     ],
     "prompt_number": 138
    },
    {
     "cell_type": "code",
     "collapsed": false,
     "input": [
      "plt.plot(set_evals22)\n",
      "plt.plot(set_evals23)"
     ],
     "language": "python",
     "metadata": {},
     "outputs": [
      {
       "metadata": {},
       "output_type": "pyout",
       "prompt_number": 141,
       "text": [
        "[<matplotlib.lines.Line2D at 0x107291cd0>]"
       ]
      },
      {
       "metadata": {},
       "output_type": "display_data",
       "png": "[encoded data removed]",
       "text": [
        "<matplotlib.figure.Figure at 0x10742df10>"
       ]
      }
     ],
     "prompt_number": 141
    },
    {
     "cell_type": "code",
     "collapsed": false,
     "input": [
      "v = np.loadtxt('../pipeline/result_out.20.var')"
     ],
     "language": "python",
     "metadata": {},
     "outputs": [],
     "prompt_number": 142
    },
    {
     "cell_type": "code",
     "collapsed": false,
     "input": [
      "sums = [1/sum(row) for row in v]"
     ],
     "language": "python",
     "metadata": {},
     "outputs": [],
     "prompt_number": 147
    },
    {
     "cell_type": "code",
     "collapsed": false,
     "input": [
      "plt.hist(sums)\n",
      "# plt.ylim([0,5])"
     ],
     "language": "python",
     "metadata": {},
     "outputs": [
      {
       "metadata": {},
       "output_type": "pyout",
       "prompt_number": 150,
       "text": [
        "(array([  1.69500000e+03,   7.07000000e+02,   3.49000000e+02,\n",
        "          1.34000000e+02,   5.30000000e+01,   1.70000000e+01,\n",
        "          3.00000000e+00,   1.00000000e+00,   3.00000000e+00,\n",
        "          1.00000000e+00]),\n",
        " array([  2.50890875e-02,   2.57826804e+02,   5.15628519e+02,\n",
        "          7.73430234e+02,   1.03123195e+03,   1.28903366e+03,\n",
        "          1.54683538e+03,   1.80463709e+03,   2.06243881e+03,\n",
        "          2.32024052e+03,   2.57804224e+03]),\n",
        " <a list of 10 Patch objects>)"
       ]
      },
      {
       "metadata": {},
       "output_type": "display_data",
       "png": "[encoded data removed]",
       "text": [
        "<matplotlib.figure.Figure at 0x1078fc550>"
       ]
      }
     ],
     "prompt_number": 150
    },
    {
     "cell_type": "code",
     "collapsed": false,
     "input": [
      "result24 = np.loadtxt('../pipeline/log.set_evals')"
     ],
     "language": "python",
     "metadata": {},
     "outputs": [],
     "prompt_number": 5
    },
    {
     "cell_type": "code",
     "collapsed": false,
     "input": [
      "plt.plot(result24[1:])"
     ],
     "language": "python",
     "metadata": {},
     "outputs": [
      {
       "metadata": {},
       "output_type": "pyout",
       "prompt_number": 7,
       "text": [
        "[<matplotlib.lines.Line2D at 0x107280e90>]"
       ]
      },
      {
       "metadata": {},
       "output_type": "display_data",
       "png": "[encoded data removed]",
       "text": [
        "<matplotlib.figure.Figure at 0x107037c50>"
       ]
      }
     ],
     "prompt_number": 7
    },
    {
     "cell_type": "code",
     "collapsed": false,
     "input": [
      "import scipy.io"
     ],
     "language": "python",
     "metadata": {},
     "outputs": [],
     "prompt_number": 8
    },
    {
     "cell_type": "code",
     "collapsed": false,
     "input": [
      "infile = \"../pipeline/result25/test_data_1.mat\"\n",
      "mat = scipy.io.loadmat(infile)"
     ],
     "language": "python",
     "metadata": {},
     "outputs": [],
     "prompt_number": 10
    },
    {
     "cell_type": "code",
     "collapsed": false,
     "input": [
      "Q_emp = mat['Q_emp']"
     ],
     "language": "python",
     "metadata": {},
     "outputs": [],
     "prompt_number": 11
    },
    {
     "cell_type": "code",
     "collapsed": false,
     "input": [
      "var_analytical = mat['var_analytical']"
     ],
     "language": "python",
     "metadata": {},
     "outputs": [],
     "prompt_number": 12
    },
    {
     "cell_type": "code",
     "collapsed": false,
     "input": [
      "print var_analytical[0]"
     ],
     "language": "python",
     "metadata": {},
     "outputs": [
      {
       "output_type": "stream",
       "stream": "stdout",
       "text": [
        "[  1.86317966e-11   1.81299400e-11   8.69070794e-12 ...,   1.55998886e-11\n",
        "   3.54536127e-11   3.54536127e-11]\n"
       ]
      }
     ],
     "prompt_number": 13
    },
    {
     "cell_type": "code",
     "collapsed": false,
     "input": [
      "print sum(Q_emp[0])"
     ],
     "language": "python",
     "metadata": {},
     "outputs": [
      {
       "output_type": "stream",
       "stream": "stdout",
       "text": [
        "0.00015\n"
       ]
      }
     ],
     "prompt_number": 14
    },
    {
     "cell_type": "code",
     "collapsed": false,
     "input": [
      "print sum(Q_emp[1])"
     ],
     "language": "python",
     "metadata": {},
     "outputs": [
      {
       "output_type": "stream",
       "stream": "stdout",
       "text": [
        "0.00029\n"
       ]
      }
     ],
     "prompt_number": 15
    },
    {
     "cell_type": "code",
     "collapsed": false,
     "input": [
      "print Q_emp[0]"
     ],
     "language": "python",
     "metadata": {},
     "outputs": [
      {
       "output_type": "stream",
       "stream": "stdout",
       "text": [
        "[ -4.33680869e-22   0.00000000e+00   0.00000000e+00 ...,   0.00000000e+00\n",
        "   0.00000000e+00   0.00000000e+00]\n"
       ]
      }
     ],
     "prompt_number": 16
    },
    {
     "cell_type": "code",
     "collapsed": false,
     "input": [],
     "language": "python",
     "metadata": {},
     "outputs": []
    }
   ],
   "metadata": {}
  }
 ]
}
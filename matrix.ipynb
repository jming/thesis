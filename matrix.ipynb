{
 "metadata": {
  "name": "",
  "signature": "sha256:e3267f7baaaed3f870251efdaa30da8aac3e15014cefd09c1bd0022bc3e0cd32"
 },
 "nbformat": 3,
 "nbformat_minor": 0,
 "worksheets": [
  {
   "cells": [
    {
     "cell_type": "code",
     "collapsed": false,
     "input": [
      "import collections\n",
      "import itertools\n",
      "import csv\n",
      "import time\n",
      "import sys\n",
      "# import pandas as pd\n",
      "import ast\n",
      "from scipy.sparse import *\n",
      "from scipy import *\n",
      "import numpy as np"
     ],
     "language": "python",
     "metadata": {},
     "outputs": [],
     "prompt_number": 2
    },
    {
     "cell_type": "code",
     "collapsed": false,
     "input": [],
     "language": "python",
     "metadata": {},
     "outputs": []
    }
   ],
   "metadata": {}
  }
 ]
}
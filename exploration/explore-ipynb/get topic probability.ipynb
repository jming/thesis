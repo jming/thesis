{
 "metadata": {
  "name": "",
  "signature": "sha256:81b47561ddfada49ab4d2bfec338bfa09f8691293ff8191b52e5d7df34097844"
 },
 "nbformat": 3,
 "nbformat_minor": 0,
 "worksheets": [
  {
   "cells": [
    {
     "cell_type": "code",
     "collapsed": false,
     "input": [
      "import numpy as np"
     ],
     "language": "python",
     "metadata": {},
     "outputs": [],
     "prompt_number": 1
    },
    {
     "cell_type": "code",
     "collapsed": false,
     "input": [
      "outfiles = [\"result10\", \"result11\", \"result12\", \"result13\", \"result17\"]"
     ],
     "language": "python",
     "metadata": {},
     "outputs": [],
     "prompt_number": 2
    },
    {
     "cell_type": "code",
     "collapsed": false,
     "input": [],
     "language": "python",
     "metadata": {},
     "outputs": []
    },
    {
     "cell_type": "code",
     "collapsed": false,
     "input": [
      "for outfile in outfiles:\n",
      "    print outfile\n",
      "    vocab = file(\"../pipeline/\"+outfile+\"/cui_list.txt.trunc\").read().strip().split()\n",
      "    A = np.loadtxt(\"../pipeline/\"+outfile+\"/result_out.100.A\")\n",
      "    with open(\"../pipeline/\"+outfile+\"/result_out.100.topwords\",\"r\") as f:\n",
      "        for line in f:\n",
      "            anchor, topwords = line.split(\":\")\n",
      "            anchor = anchor.split()[0]\n",
      "            print anchor + \":\"\n",
      "            \n",
      "            \n",
      "            for k in xrange(100):\n",
      "                topwords = np.argsort(A[:, k])[-10:][::-1]\n",
      "                for topword in topwords:\n",
      "                    print vocab[w], A[]\n",
      "            \n",
      "#             anchor_index = vocab.index(anchor)\n",
      "#             topwords = topwords.split()\n",
      "#             for topword in topwords:\n",
      "#                 topword_index = vocab.index(topword)\n",
      "#                 print topword, A[anchor_index][topword_index]\n",
      "                \n",
      "#             topwords = np.argsort(A[:, k])[10][::-1]\n",
      "                \n",
      "            "
     ],
     "language": "python",
     "metadata": {},
     "outputs": [
      {
       "output_type": "stream",
       "stream": "stdout",
       "text": [
        "result10\n",
        "C0011974:"
       ]
      },
      {
       "output_type": "stream",
       "stream": "stdout",
       "text": [
        "\n",
        "C0013595"
       ]
      },
      {
       "ename": "IndexError",
       "evalue": "index 256 is out of bounds for axis 0 with size 100",
       "output_type": "pyerr",
       "traceback": [
        "\u001b[0;31m---------------------------------------------------------------------------\u001b[0m\n\u001b[0;31mIndexError\u001b[0m                                Traceback (most recent call last)",
        "\u001b[0;32m<ipython-input-4-432eb90a53bf>\u001b[0m in \u001b[0;36m<module>\u001b[0;34m()\u001b[0m\n\u001b[1;32m     12\u001b[0m             \u001b[0;32mfor\u001b[0m \u001b[0mtopword\u001b[0m \u001b[0;32min\u001b[0m \u001b[0mtopwords\u001b[0m\u001b[0;34m:\u001b[0m\u001b[0;34m\u001b[0m\u001b[0m\n\u001b[1;32m     13\u001b[0m                 \u001b[0mtopword_index\u001b[0m \u001b[0;34m=\u001b[0m \u001b[0mvocab\u001b[0m\u001b[0;34m.\u001b[0m\u001b[0mindex\u001b[0m\u001b[0;34m(\u001b[0m\u001b[0mtopword\u001b[0m\u001b[0;34m)\u001b[0m\u001b[0;34m\u001b[0m\u001b[0m\n\u001b[0;32m---> 14\u001b[0;31m                 \u001b[0;32mprint\u001b[0m \u001b[0mtopword\u001b[0m\u001b[0;34m,\u001b[0m \u001b[0mA\u001b[0m\u001b[0;34m[\u001b[0m\u001b[0manchor_index\u001b[0m\u001b[0;34m]\u001b[0m\u001b[0;34m[\u001b[0m\u001b[0mtopword_index\u001b[0m\u001b[0;34m]\u001b[0m\u001b[0;34m\u001b[0m\u001b[0m\n\u001b[0m\u001b[1;32m     15\u001b[0m \u001b[0;34m\u001b[0m\u001b[0m\n\u001b[1;32m     16\u001b[0m \u001b[0;31m#             topwords = np.argsort(A[:, k])[10][::-1]\u001b[0m\u001b[0;34m\u001b[0m\u001b[0;34m\u001b[0m\u001b[0m\n",
        "\u001b[0;31mIndexError\u001b[0m: index 256 is out of bounds for axis 0 with size 100"
       ]
      }
     ],
     "prompt_number": 4
    },
    {
     "cell_type": "code",
     "collapsed": false,
     "input": [],
     "language": "python",
     "metadata": {},
     "outputs": []
    }
   ],
   "metadata": {}
  }
 ]
}
{
 "metadata": {
  "name": "",
  "signature": "sha256:a2b98a27c4ee9a6919262da7c961ad366849c0b8e6c840905f041fa4c450ec4a"
 },
 "nbformat": 3,
 "nbformat_minor": 0,
 "worksheets": [
  {
   "cells": [
    {
     "cell_type": "code",
     "collapsed": false,
     "input": [
      "import numpy as np\n",
      "import matplotlib.pyplot as plt"
     ],
     "language": "python",
     "metadata": {},
     "outputs": [],
     "prompt_number": 1
    },
    {
     "cell_type": "code",
     "collapsed": false,
     "input": [
      "%matplotlib inline \n",
      "\n",
      "# special matplotlib argument for improved plots\n",
      "from matplotlib import rcParams\n",
      "\n",
      "#colorbrewer2 Dark2 qualitative color table\n",
      "dark2_colors = [(0.10588235294117647, 0.6196078431372549, 0.4666666666666667),\n",
      "                (0.8509803921568627, 0.37254901960784315, 0.00784313725490196),\n",
      "                (0.4588235294117647, 0.4392156862745098, 0.7019607843137254),\n",
      "                (0.9058823529411765, 0.1607843137254902, 0.5411764705882353),\n",
      "                (0.4, 0.6509803921568628, 0.11764705882352941),\n",
      "                (0.9019607843137255, 0.6705882352941176, 0.00784313725490196),\n",
      "                (0.6509803921568628, 0.4627450980392157, 0.11372549019607843)]\n",
      "\n",
      "rcParams['figure.figsize'] = (10, 6)\n",
      "rcParams['figure.dpi'] = 150\n",
      "rcParams['axes.color_cycle'] = dark2_colors\n",
      "rcParams['lines.linewidth'] = 2\n",
      "rcParams['axes.facecolor'] = 'white'\n",
      "rcParams['font.size'] = 14\n",
      "rcParams['patch.edgecolor'] = 'white'\n",
      "rcParams['patch.facecolor'] = dark2_colors[0]\n",
      "rcParams['font.family'] = 'StixGeneral'"
     ],
     "language": "python",
     "metadata": {},
     "outputs": [],
     "prompt_number": 2
    },
    {
     "cell_type": "code",
     "collapsed": false,
     "input": [
      "filename = \"pipeline/result8/result_out.20.R\"\n",
      "R = np.loadtxt(filename)"
     ],
     "language": "python",
     "metadata": {},
     "outputs": [],
     "prompt_number": 4
    },
    {
     "cell_type": "code",
     "collapsed": false,
     "input": [
      "R_flat = R.flatten()"
     ],
     "language": "python",
     "metadata": {},
     "outputs": [],
     "prompt_number": 5
    },
    {
     "cell_type": "code",
     "collapsed": false,
     "input": [
      "print np.argsort(R_flat)"
     ],
     "language": "python",
     "metadata": {},
     "outputs": [
      {
       "output_type": "stream",
       "stream": "stdout",
       "text": [
        "[ 84 336 399 273 147  42 266 133  95 304 274 293 348 177 184  89 357 396\n",
        " 339 168 317 355 252 347 157  98 364 294 173 268 122  46 195 309 286 134\n",
        " 316 335 158 367  36 321  56 322  48 162  21  63 385 119 126 323  76 389\n",
        " 199 334 296 353 277 315 124  86 102  45 330 216  80   4  81  24 325 116\n",
        " 236 331 214 290 291 234 359 397 171 228 197 349  82  44  14 280 332 256\n",
        " 320  16 169 188 387 159 360  18 118 365 283  74 239 391 287 154 284  94\n",
        "  77 343  51 222 149 187 206 130 183  69 117 345 368 178 207 150 105 208\n",
        " 170 108 165 231 107 145 151 227 371 238 352 257 392 259   6 120 180   9\n",
        "  57 342 369 198 164  88 366 138 211 230  25 101 378 121  26 152 247 221\n",
        "  31 254 292  11 220 263  73  34 281 381  39 112 245 193 269  13 260 110\n",
        " 205 232 251 370 218  20   1 223  71 300  15 310 215   5 100 372 258 250\n",
        " 212 200  10 237 351 140   7 302  55   2  40  65 103 298 374  78 363  12\n",
        " 240 210 319 395 213 270 241  32  72 243  30 201 143  67 125 106 261  33\n",
        "  60   3 301  35  70 203 350 217 299 394 226 131 163  68  23  61  92 244\n",
        "  64  83 361  38 376 338 377 358 248 172 190 209 340  17  52 242 285 114\n",
        " 326 136 308 175 142  47 375 318 109 185 202  50 123  66  29 181 253 272\n",
        " 312 255  22  41 204  90 246 132  62  43 128 166   0  91 224  37 341   8\n",
        " 160  28 161 289 194 235 311 115 305  75 303 229 191 189 111 225  85 104\n",
        " 267 153 233 271 329 196 219 390 174 288 192 249 373 278 356 337  27 141\n",
        "  79 383 362  58 380  19 386 139 167 148 135 306 179 388 186 129 156 327\n",
        " 113 265 182  49 398 379 313 275  99 384 346 137 295 314 264  93 155 307\n",
        "  87 144  59 382 282  54  53 262 146 127 333 276 297 354 328 176 344  97\n",
        " 279 393  96 324]\n"
       ]
      }
     ],
     "prompt_number": 7
    },
    {
     "cell_type": "code",
     "collapsed": false,
     "input": [
      "R_sort = sorted(R_flat)"
     ],
     "language": "python",
     "metadata": {},
     "outputs": [],
     "prompt_number": 8
    },
    {
     "cell_type": "code",
     "collapsed": false,
     "input": [
      "plt.plot(R_sort)\n",
      "plt.show()"
     ],
     "language": "python",
     "metadata": {},
     "outputs": [
      {
       "metadata": {},
       "output_type": "display_data",
       "png": "[encoded data removed]",
       "text": [
        "<matplotlib.figure.Figure at 0x10621e390>"
       ]
      }
     ],
     "prompt_number": 9
    },
    {
     "cell_type": "code",
     "collapsed": false,
     "input": [],
     "language": "python",
     "metadata": {},
     "outputs": []
    }
   ],
   "metadata": {}
  }
 ]
}
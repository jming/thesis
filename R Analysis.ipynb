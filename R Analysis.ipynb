{
 "metadata": {
  "name": "",
  "signature": "sha256:2303226e13a0002e7ef3b1653774ca1260e30da9629e5fca8d74711d88235c5a"
 },
 "nbformat": 3,
 "nbformat_minor": 0,
 "worksheets": [
  {
   "cells": [
    {
     "cell_type": "code",
     "collapsed": false,
     "input": [
      "import numpy as np\n",
      "import matplotlib.pyplot as plt"
     ],
     "language": "python",
     "metadata": {},
     "outputs": [],
     "prompt_number": 1
    },
    {
     "cell_type": "code",
     "collapsed": false,
     "input": [
      "%matplotlib inline \n",
      "\n",
      "# special matplotlib argument for improved plots\n",
      "from matplotlib import rcParams\n",
      "\n",
      "#colorbrewer2 Dark2 qualitative color table\n",
      "dark2_colors = [(0.10588235294117647, 0.6196078431372549, 0.4666666666666667),\n",
      "                (0.8509803921568627, 0.37254901960784315, 0.00784313725490196),\n",
      "                (0.4588235294117647, 0.4392156862745098, 0.7019607843137254),\n",
      "                (0.9058823529411765, 0.1607843137254902, 0.5411764705882353),\n",
      "                (0.4, 0.6509803921568628, 0.11764705882352941),\n",
      "                (0.9019607843137255, 0.6705882352941176, 0.00784313725490196),\n",
      "                (0.6509803921568628, 0.4627450980392157, 0.11372549019607843)]\n",
      "\n",
      "rcParams['figure.figsize'] = (10, 6)\n",
      "rcParams['figure.dpi'] = 150\n",
      "rcParams['axes.color_cycle'] = dark2_colors\n",
      "rcParams['lines.linewidth'] = 2\n",
      "rcParams['axes.facecolor'] = 'white'\n",
      "rcParams['font.size'] = 14\n",
      "rcParams['patch.edgecolor'] = 'white'\n",
      "rcParams['patch.facecolor'] = dark2_colors[0]\n",
      "rcParams['font.family'] = 'StixGeneral'"
     ],
     "language": "python",
     "metadata": {},
     "outputs": [],
     "prompt_number": 2
    },
    {
     "cell_type": "code",
     "collapsed": false,
     "input": [
      "filename = \"pipeline/result8/result_out.20.R\"\n",
      "R = np.loadtxt(filename)"
     ],
     "language": "python",
     "metadata": {},
     "outputs": [],
     "prompt_number": 35
    },
    {
     "cell_type": "code",
     "collapsed": false,
     "input": [
      "R_flat = R.flatten()"
     ],
     "language": "python",
     "metadata": {},
     "outputs": [],
     "prompt_number": 36
    },
    {
     "cell_type": "code",
     "collapsed": false,
     "input": [
      "print np.argsort(R_flat)"
     ],
     "language": "python",
     "metadata": {},
     "outputs": [
      {
       "output_type": "stream",
       "stream": "stdout",
       "text": [
        "[ 84 336 399 273 147  42 266 133  95 304 274 293 348 177 184  89 357 396\n",
        " 339 168 317 355 252 347 157  98 364 294 173 268 122  46 195 309 286 134\n",
        " 316 335 158 367  36 321  56 322  48 162  21  63 385 119 126 323  76 389\n",
        " 199 334 296 353 277 315 124  86 102  45 330 216  80   4  81  24 325 116\n",
        " 236 331 214 290 291 234 359 397 171 228 197 349  82  44  14 280 332 256\n",
        " 320  16 169 188 387 159 360  18 118 365 283  74 239 391 287 154 284  94\n",
        "  77 343  51 222 149 187 206 130 183  69 117 345 368 178 207 150 105 208\n",
        " 170 108 165 231 107 145 151 227 371 238 352 257 392 259   6 120 180   9\n",
        "  57 342 369 198 164  88 366 138 211 230  25 101 378 121  26 152 247 221\n",
        "  31 254 292  11 220 263  73  34 281 381  39 112 245 193 269  13 260 110\n",
        " 205 232 251 370 218  20   1 223  71 300  15 310 215   5 100 372 258 250\n",
        " 212 200  10 237 351 140   7 302  55   2  40  65 103 298 374  78 363  12\n",
        " 240 210 319 395 213 270 241  32  72 243  30 201 143  67 125 106 261  33\n",
        "  60   3 301  35  70 203 350 217 299 394 226 131 163  68  23  61  92 244\n",
        "  64  83 361  38 376 338 377 358 248 172 190 209 340  17  52 242 285 114\n",
        " 326 136 308 175 142  47 375 318 109 185 202  50 123  66  29 181 253 272\n",
        " 312 255  22  41 204  90 246 132  62  43 128 166   0  91 224  37 341   8\n",
        " 160  28 161 289 194 235 311 115 305  75 303 229 191 189 111 225  85 104\n",
        " 267 153 233 271 329 196 219 390 174 288 192 249 373 278 356 337  27 141\n",
        "  79 383 362  58 380  19 386 139 167 148 135 306 179 388 186 129 156 327\n",
        " 113 265 182  49 398 379 313 275  99 384 346 137 295 314 264  93 155 307\n",
        "  87 144  59 382 282  54  53 262 146 127 333 276 297 354 328 176 344  97\n",
        " 279 393  96 324]\n"
       ]
      }
     ],
     "prompt_number": 37
    },
    {
     "cell_type": "code",
     "collapsed": false,
     "input": [
      "R_sort = sorted(R_flat)"
     ],
     "language": "python",
     "metadata": {},
     "outputs": [],
     "prompt_number": 38
    },
    {
     "cell_type": "code",
     "collapsed": false,
     "input": [
      "plt.plot(R_sort)\n",
      "plt.show()"
     ],
     "language": "python",
     "metadata": {},
     "outputs": [
      {
       "metadata": {},
       "output_type": "display_data",
       "png": "[encoded data removed]",
       "text": [
        "<matplotlib.figure.Figure at 0x106446b50>"
       ]
      }
     ],
     "prompt_number": 39
    },
    {
     "cell_type": "code",
     "collapsed": false,
     "input": [
      "least = np.where(R_flat < -2)\n",
      "print least"
     ],
     "language": "python",
     "metadata": {},
     "outputs": [
      {
       "output_type": "stream",
       "stream": "stdout",
       "text": [
        "(array([ 42,  84,  95, 133, 147, 266, 273, 274, 293, 304, 336, 399]),)\n"
       ]
      }
     ],
     "prompt_number": 11
    },
    {
     "cell_type": "code",
     "collapsed": false,
     "input": [
      "least_coords = []\n",
      "for l in least:\n",
      "    col = l % 20\n",
      "    row = l / 20\n",
      "    least_coords.append((row, col))\n",
      "\n",
      "print least_coords"
     ],
     "language": "python",
     "metadata": {},
     "outputs": [
      {
       "output_type": "stream",
       "stream": "stdout",
       "text": [
        "[(array([ 2,  4,  4,  6,  7, 13, 13, 13, 14, 15, 16, 19]), array([ 2,  4, 15, 13,  7,  6, 13, 14, 13,  4, 16, 19]))]\n"
       ]
      }
     ],
     "prompt_number": 13
    },
    {
     "cell_type": "code",
     "collapsed": false,
     "input": [
      "filenamew = \"pipeline/result8/result_out.20.topwords\"\n",
      "topwords = []\n",
      "\n",
      "with open(filenamew, \"r\") as f:\n",
      "    for line in f:\n",
      "        line_split = line.split(' : ')\n",
      "        topwords.append(line_split[0])\n",
      "\n",
      "print topwords"
     ],
     "language": "python",
     "metadata": {},
     "outputs": [
      {
       "output_type": "stream",
       "stream": "stdout",
       "text": [
        "['C0424578', 'C0425583', 'C0428436', 'C0335385', 'C0030768', 'C0184626', 'C0772313', 'C0182123', 'C0003873', 'C0995182', 'C0001275', 'C0282679', 'C0011175', 'C0873129', 'C0042285', 'C0018621', 'C0021403', 'C0861064', 'C0078794', 'C0001613']\n"
       ]
      }
     ],
     "prompt_number": 15
    },
    {
     "cell_type": "code",
     "collapsed": false,
     "input": [
      "least_cuis = []\n",
      "\n",
      "for i in range(len(least_coords[0][0])):\n",
      "    r = least_coords[0][0][i]\n",
      "    c = least_coords[0][1][i]\n",
      "    least_cuis.append((topwords[r], topwords[c]))\n",
      "\n",
      "print least_cuis"
     ],
     "language": "python",
     "metadata": {},
     "outputs": [
      {
       "output_type": "stream",
       "stream": "stdout",
       "text": [
        "[('C0428436', 'C0428436'), ('C0030768', 'C0030768'), ('C0030768', 'C0018621'), ('C0772313', 'C0873129'), ('C0182123', 'C0182123'), ('C0873129', 'C0772313'), ('C0873129', 'C0873129'), ('C0873129', 'C0042285'), ('C0042285', 'C0873129'), ('C0018621', 'C0030768'), ('C0021403', 'C0021403'), ('C0001613', 'C0001613')]\n"
       ]
      }
     ],
     "prompt_number": 25
    },
    {
     "cell_type": "code",
     "collapsed": false,
     "input": [
      "cui_dict = {}\n",
      "\n",
      "with open(\"pipeline/result8/cui_dict.txt\") as f:\n",
      "    for line in f:\n",
      "        line_split = line.split('\\t')\n",
      "        cui_dict[line_split[0]] = line_split[1]"
     ],
     "language": "python",
     "metadata": {},
     "outputs": [],
     "prompt_number": 26
    },
    {
     "cell_type": "code",
     "collapsed": false,
     "input": [
      "least_words = []\n",
      "\n",
      "for r,c in least_cuis:\n",
      "    least_words.append((cui_dict[r], cui_dict[c]))\n",
      "    \n",
      "for pair in least_words:\n",
      "    print pair"
     ],
     "language": "python",
     "metadata": {},
     "outputs": [
      {
       "output_type": "stream",
       "stream": "stdout",
       "text": [
        "('ammonia level\\n', 'ammonia level\\n')\n",
        "('peer review\\n', 'peer review\\n')\n",
        "('peer review\\n', 'hay fever\\n')\n",
        "('colloidal silver\\n', 'black walnut hull extract\\n')\n",
        "('oxygen concentrator (physical object)\\n', 'oxygen concentrator (physical object)\\n')\n",
        "('black walnut hull extract\\n', 'colloidal silver\\n')\n",
        "('black walnut hull extract\\n', 'black walnut hull extract\\n')\n",
        "('black walnut hull extract\\n', 'valine\\n')\n",
        "('valine\\n', 'black walnut hull extract\\n')\n",
        "('hay fever\\n', 'peer review\\n')\n",
        "('influenza virus vaccine\\n', 'influenza virus vaccine\\n')\n",
        "('adrenal cortex\\n', 'adrenal cortex\\n')\n"
       ]
      }
     ],
     "prompt_number": 29
    },
    {
     "cell_type": "code",
     "collapsed": false,
     "input": [
      "most = np.where(R_flat > 2)\n",
      "print most"
     ],
     "language": "python",
     "metadata": {},
     "outputs": [
      {
       "output_type": "stream",
       "stream": "stdout",
       "text": [
        "(array([ 96,  97, 176, 276, 279, 297, 324, 328, 333, 344, 354, 393]),)\n"
       ]
      }
     ],
     "prompt_number": 41
    },
    {
     "cell_type": "code",
     "collapsed": false,
     "input": [
      "most_coords = []\n",
      "\n",
      "for m in most:\n",
      "    c = m % 20\n",
      "    r = m / 20\n",
      "    most_coords.append((r, c))\n",
      "    \n",
      "print most_coords"
     ],
     "language": "python",
     "metadata": {},
     "outputs": [
      {
       "output_type": "stream",
       "stream": "stdout",
       "text": [
        "[(array([ 4,  4,  8, 13, 13, 14, 16, 16, 16, 17, 17, 19]), array([16, 17, 16, 16, 19, 17,  4,  8, 13,  4, 14, 13]))]\n"
       ]
      }
     ],
     "prompt_number": 45
    },
    {
     "cell_type": "code",
     "collapsed": false,
     "input": [
      "most_cuis = []\n",
      "\n",
      "for i in range(len(most_coords[0][0])):\n",
      "    r = most_coords[0][0][i]\n",
      "    c = most_coords[0][1][i]\n",
      "    most_cuis.append((topwords[r], topwords[c]))\n",
      "\n",
      "print most_cuis"
     ],
     "language": "python",
     "metadata": {},
     "outputs": [
      {
       "output_type": "stream",
       "stream": "stdout",
       "text": [
        "[('C0030768', 'C0021403'), ('C0030768', 'C0861064'), ('C0003873', 'C0021403'), ('C0873129', 'C0021403'), ('C0873129', 'C0001613'), ('C0042285', 'C0861064'), ('C0021403', 'C0030768'), ('C0021403', 'C0003873'), ('C0021403', 'C0873129'), ('C0861064', 'C0030768'), ('C0861064', 'C0042285'), ('C0001613', 'C0873129')]\n"
       ]
      }
     ],
     "prompt_number": 46
    },
    {
     "cell_type": "code",
     "collapsed": false,
     "input": [
      "most_words = []\n",
      "for r,c in most_cuis:\n",
      "    most_words.append((cui_dict[r], cui_dict[c]))\n",
      "\n",
      "for mw in most_words:\n",
      "    print mw"
     ],
     "language": "python",
     "metadata": {},
     "outputs": [
      {
       "output_type": "stream",
       "stream": "stdout",
       "text": [
        "('peer review\\n', 'influenza virus vaccine\\n')\n",
        "('peer review\\n', 'lead increased\\n')\n",
        "('rheumatoid arthritis\\n', 'influenza virus vaccine\\n')\n",
        "('black walnut hull extract\\n', 'influenza virus vaccine\\n')\n",
        "('black walnut hull extract\\n', 'adrenal cortex\\n')\n",
        "('valine\\n', 'lead increased\\n')\n",
        "('influenza virus vaccine\\n', 'peer review\\n')\n",
        "('influenza virus vaccine\\n', 'rheumatoid arthritis\\n')\n",
        "('influenza virus vaccine\\n', 'black walnut hull extract\\n')\n",
        "('lead increased\\n', 'peer review\\n')\n",
        "('lead increased\\n', 'valine\\n')\n",
        "('adrenal cortex\\n', 'black walnut hull extract\\n')\n"
       ]
      }
     ],
     "prompt_number": 47
    },
    {
     "cell_type": "code",
     "collapsed": false,
     "input": [
      "fn = \"pipeline/result8/result_out.100.R\"\n",
      "R100 = np.loadtxt(fn)\n",
      "\n",
      "R100_flat = R100.flatten()\n",
      "R100_sort = sorted(R100_flat)"
     ],
     "language": "python",
     "metadata": {},
     "outputs": [],
     "prompt_number": 48
    },
    {
     "cell_type": "code",
     "collapsed": false,
     "input": [
      "plt.plot(R100_sort)\n",
      "plt.show()"
     ],
     "language": "python",
     "metadata": {},
     "outputs": [
      {
       "metadata": {},
       "output_type": "display_data",
       "png": "[encoded data removed]",
       "text": [
        "<matplotlib.figure.Figure at 0x1064b2810>"
       ]
      }
     ],
     "prompt_number": 49
    },
    {
     "cell_type": "code",
     "collapsed": false,
     "input": [
      "least100 = np.where(R100_flat < -0.05)\n",
      "print least100"
     ],
     "language": "python",
     "metadata": {},
     "outputs": [
      {
       "output_type": "stream",
       "stream": "stdout",
       "text": [
        "(array([ 101, 1212, 1282, 3535, 4141, 4191, 5252, 5757, 6868, 7373, 7676,\n",
        "       8212, 8282, 8383, 8585, 8598, 8888, 9141, 9292, 9494, 9885, 9898,\n",
        "       9999]),)\n"
       ]
      }
     ],
     "prompt_number": 51
    },
    {
     "cell_type": "code",
     "collapsed": false,
     "input": [
      "most100 = np.where(R100_flat > 0.05)\n",
      "print most100"
     ],
     "language": "python",
     "metadata": {},
     "outputs": [
      {
       "output_type": "stream",
       "stream": "stdout",
       "text": [
        "(array([ 112,  198, 1201, 3546, 4154, 4198, 4635, 5255, 5441, 5552, 6891,\n",
        "       8595, 8599, 8894, 9091, 9168, 9190, 9488, 9585, 9801, 9841, 9985]),)\n"
       ]
      }
     ],
     "prompt_number": 53
    },
    {
     "cell_type": "code",
     "collapsed": false,
     "input": [
      "def get_cuis(flat_ind, words):\n",
      "    \n",
      "    cuis = []\n",
      "    \n",
      "    for i in flat_ind[0]:\n",
      "        \n",
      "        #print i\n",
      "        \n",
      "        col = i % 100\n",
      "        row = i / 100\n",
      "        \n",
      "        cuis.append((words[row], words[col]))\n",
      "    \n",
      "    return cuis"
     ],
     "language": "python",
     "metadata": {},
     "outputs": [],
     "prompt_number": 68
    },
    {
     "cell_type": "code",
     "collapsed": false,
     "input": [
      "fnw = \"pipeline/result8/result_out.100.topwords\"\n",
      "top100 = []\n",
      "\n",
      "with open(fnw, \"r\") as f:\n",
      "    for line in f:\n",
      "        line_split = line.split(' : ')\n",
      "        top100.append(line_split[0])\n",
      "\n",
      "print top100"
     ],
     "language": "python",
     "metadata": {},
     "outputs": [
      {
       "output_type": "stream",
       "stream": "stdout",
       "text": [
        "['C0424578', 'C0425583', 'C0428436', 'C0335385', 'C0030768', 'C0184626', 'C0772313', 'C0182123', 'C0003873', 'C0995182', 'C0001275', 'C0282679', 'C0011175', 'C0873129', 'C0042285', 'C0018621', 'C0021403', 'C0861064', 'C0078794', 'C0001613', 'C0078479', 'C0440298', 'C0126774', 'C0863093', 'C0240066', 'C0020649', 'C0424489', 'C0018786', 'C0555061', 'C0015686', 'C0087163', 'C0461725', 'C0206208', 'C1299932', 'C0232708', 'C0260101', 'C1178459', 'C0028125', 'C0006325', 'C0055370', 'C0937640', 'C0051767', 'C0013853', 'C0042232', 'C0772453', 'C0042610', 'C0014553', 'C0541799', 'C0234875', 'C1145677', 'C0030946', 'C0330500', 'C0040710', 'C0699857', 'C0163683', 'C0008919', 'C0700602', 'C0007894', 'C0108101', 'C0024198', 'C0302833', 'C0017127', 'C1315011', 'C0087162', 'C0428575', 'C0677522', 'C0190979', 'C0024348', 'C0542299', 'C0452875', 'C0304554', 'C0230463', 'C0017510', 'C0137137', 'C0938430', 'C0237113', 'C0179958', 'C0678835', 'C0042027', 'C0458176', 'C0065175', 'C0873113', 'C0033371', 'C0683525', 'C0301872', 'C0017547', 'C0086282', 'C0038250', 'C0030842', 'C0000737', 'C0600054', 'C0020616', 'C0561296', 'C0033011', 'C0065844', 'C0085633', 'C0038225', 'C0040005', 'C0982094', 'C0086126']\n"
       ]
      }
     ],
     "prompt_number": 60
    },
    {
     "cell_type": "code",
     "collapsed": false,
     "input": [
      "least100_cuis = get_cuis(least100, top100)\n",
      "most100_cuis = get_cuis(most100, top100)"
     ],
     "language": "python",
     "metadata": {},
     "outputs": [],
     "prompt_number": 69
    },
    {
     "cell_type": "code",
     "collapsed": false,
     "input": [
      "def get_words(cuis, word_dict):\n",
      "    \n",
      "    words = []\n",
      "    for r,c in cuis:\n",
      "        words.append((word_dict[r], word_dict[c]))\n",
      "    \n",
      "    for pair in words:\n",
      "        print pair\n",
      "        \n",
      "    return words"
     ],
     "language": "python",
     "metadata": {},
     "outputs": [],
     "prompt_number": 72
    },
    {
     "cell_type": "code",
     "collapsed": false,
     "input": [
      "least100_words = get_words(least100_cuis, cui_dict)"
     ],
     "language": "python",
     "metadata": {},
     "outputs": [
      {
       "output_type": "stream",
       "stream": "stdout",
       "text": [
        "('heart beat (observable entity)\\n', 'heart beat (observable entity)\\n')\n",
        "('dehydration\\n', 'dehydration\\n')\n",
        "('dehydration\\n', 'prolactin\\n')\n",
        "('sick child (context-dependent category)\\n', 'sick child (context-dependent category)\\n')\n",
        "('amsonic acid\\n', 'amsonic acid\\n')\n",
        "('amsonic acid\\n', 'hypoglycemic agents\\n')\n",
        "('translating\\n', 'translating\\n')\n",
        "('cestode infections\\n', 'cestode infections\\n')\n",
        "('behavioral change\\n', 'behavioral change\\n')\n",
        "('pitch - substance\\n', 'pitch - substance\\n')\n",
        "('cleaning device\\n', 'cleaning device\\n')\n",
        "('prolactin\\n', 'dehydration\\n')\n",
        "('prolactin\\n', 'prolactin\\n')\n",
        "('treatment options\\n', 'treatment options\\n')\n",
        "('gigantism\\n', 'gigantism\\n')\n",
        "('gigantism\\n', 'color,artificial\\n')\n",
        "('penicillins\\n', 'penicillins\\n')\n",
        "('hypoglycemic agents\\n', 'amsonic acid\\n')\n",
        "('cut of back (disorder)\\n', 'cut of back (disorder)\\n')\n",
        "('mecobalamin\\n', 'mecobalamin\\n')\n",
        "('color,artificial\\n', 'gigantism\\n')\n",
        "('color,artificial\\n', 'color,artificial\\n')\n",
        "(\"2'-deoxythymidine\\n\", \"2'-deoxythymidine\\n\")\n"
       ]
      }
     ],
     "prompt_number": 74
    },
    {
     "cell_type": "code",
     "collapsed": false,
     "input": [
      "most100_words = get_words(most100_cuis, cui_dict)"
     ],
     "language": "python",
     "metadata": {},
     "outputs": [
      {
       "output_type": "stream",
       "stream": "stdout",
       "text": [
        "('heart beat (observable entity)\\n', 'dehydration\\n')\n",
        "('heart beat (observable entity)\\n', 'color,artificial\\n')\n",
        "('dehydration\\n', 'heart beat (observable entity)\\n')\n",
        "('sick child (context-dependent category)\\n', 'epilepsy, absence\\n')\n",
        "('amsonic acid\\n', 'cover-up\\n')\n",
        "('amsonic acid\\n', 'color,artificial\\n')\n",
        "('epilepsy, absence\\n', 'sick child (context-dependent category)\\n')\n",
        "('translating\\n', 'claw\\n')\n",
        "('cover-up\\n', 'amsonic acid\\n')\n",
        "('claw\\n', 'translating\\n')\n",
        "('behavioral change\\n', 'hypoglycemic agents\\n')\n",
        "('gigantism\\n', 'mood swings\\n')\n",
        "('gigantism\\n', \"2'-deoxythymidine\\n\")\n",
        "('penicillins\\n', 'mecobalamin\\n')\n",
        "('beets\\n', 'hypoglycemic agents\\n')\n",
        "('hypoglycemic agents\\n', 'behavioral change\\n')\n",
        "('hypoglycemic agents\\n', 'beets\\n')\n",
        "('mecobalamin\\n', 'penicillins\\n')\n",
        "('mood swings\\n', 'gigantism\\n')\n",
        "('color,artificial\\n', 'heart beat (observable entity)\\n')\n",
        "('color,artificial\\n', 'amsonic acid\\n')\n",
        "(\"2'-deoxythymidine\\n\", 'gigantism\\n')\n"
       ]
      }
     ],
     "prompt_number": 75
    },
    {
     "cell_type": "code",
     "collapsed": false,
     "input": [
      "filen = \"pipeline/result9/result_out.100.R\"\n",
      "\n",
      "R9 = np.loadtxt(filen)\n",
      "R9_flat = R9.flatten()\n",
      "R9_sort = sorted(R9_flat)"
     ],
     "language": "python",
     "metadata": {},
     "outputs": [],
     "prompt_number": 78
    },
    {
     "cell_type": "code",
     "collapsed": false,
     "input": [
      "plt.plot(R9_sort)\n",
      "plt.show()"
     ],
     "language": "python",
     "metadata": {},
     "outputs": [
      {
       "metadata": {},
       "output_type": "display_data",
       "png": "[encoded data removed]",
       "text": [
        "<matplotlib.figure.Figure at 0x10701b510>"
       ]
      }
     ],
     "prompt_number": 79
    },
    {
     "cell_type": "code",
     "collapsed": false,
     "input": [
      "least9 = np.where(R9_flat < -0.05)\n",
      "most9 = np.where(R_flat > 0.05)"
     ],
     "language": "python",
     "metadata": {},
     "outputs": [],
     "prompt_number": 80
    },
    {
     "cell_type": "code",
     "collapsed": false,
     "input": [
      "filenw = \"pipeline/result9/result_out.100.topwords\"\n",
      "top9 = []\n",
      "\n",
      "with open(filenw, \"r\") as f:\n",
      "    for line in f:\n",
      "        line_split = line.split(\" : \")\n",
      "        top9.append(line_split[0])\n",
      "\n",
      "print top9"
     ],
     "language": "python",
     "metadata": {},
     "outputs": [
      {
       "output_type": "stream",
       "stream": "stdout",
       "text": [
        "['C0849759', 'C0424489', 'C0424578', 'C0011974', 'C1315011', 'C0683525', 'C0018621', 'C0541799', 'C0237113', 'C0863093', 'C0233522', 'C1272329', 'C0037317', 'C1145677', 'C0024198', 'C0393761', 'C0018786', 'C1148454', 'C0013853', 'C0680237', 'C0013123', 'C0425946', 'C0950540', 'C0043094', 'C0683573', 'C0392171', 'C0038395', 'C0242606', 'C0239574', 'C0301872', 'C0221512', 'C0085633', 'C0149696', 'C0028900', 'C0036429', 'C0006325', 'C0020649', 'C0014038', 'C0018081', 'C0030768', 'C0025353', 'C0935572', 'C0027051', 'C0233571', 'C0235309', 'C0031117', 'C0679046', 'C0038644', 'C0872403', 'C1160340', 'C0424939', 'C0039437', 'C0018235', 'C0002736', 'C0086972', 'C0028754', 'C0449381', 'C0276828', 'C0022346', 'C0039971', 'C0039614', 'C0021467', 'C1299932', 'C0204727', 'C0086769', 'C0017168', 'C0030011', 'C0001122', 'C0516979', 'C0544452', 'C0700589', 'C0337439', 'C0085584', 'C0242687', 'C0263233', 'C0009324', 'C0032064', 'C0004364', 'C0851121', 'C0015457', 'C0039128', 'C0870313', 'C0560837', 'C0241889', 'C0597811', 'C0260657', 'C0019101', 'C0003123', 'C0678835', 'C0036341', 'C0234875', 'C0524637', 'C0751265', 'C0034107', 'C0015663', 'C0243144', 'C0026780', 'C0870379', 'C1140999', 'C0014591']\n"
       ]
      }
     ],
     "prompt_number": 81
    },
    {
     "cell_type": "code",
     "collapsed": false,
     "input": [
      "least9_cuis = get_cuis(least9, top9)\n",
      "most9_cuis = get_cuis(most9, top9)"
     ],
     "language": "python",
     "metadata": {},
     "outputs": [],
     "prompt_number": 82
    },
    {
     "cell_type": "code",
     "collapsed": false,
     "input": [
      "least9_words = get_words(least9_cuis, cui_dict)"
     ],
     "language": "python",
     "metadata": {},
     "outputs": [
      {
       "output_type": "stream",
       "stream": "stdout",
       "text": [
        "('office visits\\n', 'office visits\\n')\n",
        "('personal integrity\\n', 'personal integrity\\n')\n",
        "('criticism\\n', 'criticism\\n')\n"
       ]
      }
     ],
     "prompt_number": 83
    },
    {
     "cell_type": "code",
     "collapsed": false,
     "input": [
      "most9_words = get_words(most9_cuis, cui_dict)"
     ],
     "language": "python",
     "metadata": {},
     "outputs": [
      {
       "output_type": "stream",
       "stream": "stdout",
       "text": [
        "('charmed\\n', 'charmed\\n')\n",
        "('charmed\\n', 'diaper rash\\n')\n",
        "('charmed\\n', 'speech and language\\n')\n",
        "('charmed\\n', 'seizure activity\\n')\n",
        "('charmed\\n', 'disaffection\\n')\n",
        "('charmed\\n', 'chap\\n')\n",
        "('charmed\\n', 'weight gain\\n')\n",
        "('charmed\\n', 'oxidative stress\\n')\n",
        "('charmed\\n', 'low grade pyrexia (finding)\\n')\n",
        "('charmed\\n', 'immune response\\n')\n",
        "('charmed\\n', 'stomach pain\\n')\n",
        "('charmed\\n', 'food intolerance (finding)\\n')\n",
        "('charmed\\n', 'office visits\\n')\n",
        "('charmed\\n', 'bruxism\\n')\n",
        "('charmed\\n', 'encephalitis\\n')\n",
        "('charmed\\n', 'gonorrhea\\n')\n",
        "('charmed\\n', 'stalking\\n')\n",
        "('charmed\\n', 'excitement (finding)\\n')\n",
        "('charmed\\n', 'sudden infant death syndrome\\n')\n",
        "('charmed\\n', 'brain development\\n')\n",
        "('charmed\\n', 'learning difficulties (finding)\\n')\n",
        "('charmed\\n', 'grief reaction\\n')\n",
        "('charmed\\n', 'amyotrophic lateral sclerosis\\n')\n",
        "('charmed\\n', 'separated from cohabitee\\n')\n",
        "('charmed\\n', 'icterus\\n')\n",
        "('charmed\\n', 'thirst\\n')\n",
        "('charmed\\n', 'tetanus\\n')\n",
        "('charmed\\n', 'psychological inhibition\\n')\n",
        "('charmed\\n', 'head tilt (finding)\\n')\n",
        "('charmed\\n', 'panic attacks\\n')\n",
        "('charmed\\n', 'oxidation, function (observable entity)\\n')\n",
        "('charmed\\n', 'acidosis\\n')\n",
        "('charmed\\n', 'energy level\\n')\n",
        "('charmed\\n', 'contraception\\n')\n",
        "('charmed\\n', 'unspecified encephalopathy (disorder)\\n')\n",
        "('charmed\\n', 'colitis, ulcerative\\n')\n",
        "('charmed\\n', 'facial expression\\n')\n",
        "('charmed\\n', 'family history: nos (context-dependent category)\\n')\n",
        "('charmed\\n', '[v]other behavioral problems (context-dependent category)\\n')\n",
        "('charmed\\n', 'anorexia\\n')\n",
        "('charmed\\n', 'barking, function (observable entity)\\n')\n",
        "('charmed\\n', 'recognition (psychology)\\n')\n",
        "('charmed\\n', 'learning disabilities\\n')\n",
        "('charmed\\n', 'pulse taking\\n')\n",
        "('charmed\\n', 'mumps\\n')\n",
        "('charmed\\n', 'criticism\\n')\n",
        "('charmed\\n', 'epistaxis\\n')\n",
        "('cracked lips (finding)\\n', 'challenge tests\\n')\n",
        "('cracked lips (finding)\\n', 'hay fever\\n')\n",
        "('cracked lips (finding)\\n', 'cold symptoms\\n')\n",
        "('cracked lips (finding)\\n', 'bright red color (finding)\\n')\n",
        "('cracked lips (finding)\\n', 'language ability\\n')\n",
        "('cracked lips (finding)\\n', 'lyme disease\\n')\n",
        "('cracked lips (finding)\\n', 'middle insomnia (disorder)\\n')\n",
        "('cracked lips (finding)\\n', 'weight gain\\n')\n",
        "('cracked lips (finding)\\n', 'influenza-like symptoms (finding)\\n')\n",
        "('cracked lips (finding)\\n', 'oxidative stress\\n')\n",
        "('cracked lips (finding)\\n', 'low grade pyrexia (finding)\\n')\n",
        "('cracked lips (finding)\\n', 'immune response\\n')\n",
        "('cracked lips (finding)\\n', 'mood swings\\n')\n",
        "('cracked lips (finding)\\n', 'food intolerance (finding)\\n')\n",
        "('cracked lips (finding)\\n', 'bruxism\\n')\n",
        "('cracked lips (finding)\\n', 'hypotension\\n')\n",
        "('cracked lips (finding)\\n', 'encephalitis\\n')\n",
        "('cracked lips (finding)\\n', 'peer review\\n')\n",
        "('cracked lips (finding)\\n', 'stalking\\n')\n",
        "('cracked lips (finding)\\n', 'myocardial infarction\\n')\n",
        "('cracked lips (finding)\\n', 'excitement (finding)\\n')\n",
        "('cracked lips (finding)\\n', 'upset stomach (finding)\\n')\n",
        "('cracked lips (finding)\\n', 'attention span\\n')\n",
        "('cracked lips (finding)\\n', 'personal integrity\\n')\n",
        "('cracked lips (finding)\\n', 'amyotrophic lateral sclerosis\\n')\n",
        "('cracked lips (finding)\\n', 'obesity\\n')\n",
        "('cracked lips (finding)\\n', 'observation parameter (observable entity)\\n')\n",
        "('cracked lips (finding)\\n', 'tetanus\\n')\n",
        "('cracked lips (finding)\\n', 'psychological inhibition\\n')\n",
        "('cracked lips (finding)\\n', 'isolation procedure\\n')\n",
        "('cracked lips (finding)\\n', 'oxidation, function (observable entity)\\n')\n",
        "('cracked lips (finding)\\n', 'acidosis\\n')\n",
        "('cracked lips (finding)\\n', 'unspecified encephalopathy (disorder)\\n')\n",
        "('cracked lips (finding)\\n', 'cradle cap (disorder)\\n')\n",
        "('cracked lips (finding)\\n', 'colitis, ulcerative\\n')\n",
        "('cracked lips (finding)\\n', 'plague\\n')\n",
        "('cracked lips (finding)\\n', 'facial expression\\n')\n",
        "('cracked lips (finding)\\n', 'communication skills (observable entity)\\n')\n",
        "('cracked lips (finding)\\n', 'does sit up (finding)\\n')\n",
        "('cracked lips (finding)\\n', '[v]other behavioral problems (context-dependent category)\\n')\n",
        "('cracked lips (finding)\\n', 'hemorrhagic fever with renal syndrome\\n')\n",
        "('cracked lips (finding)\\n', 'schizophrenia\\n')\n",
        "('cracked lips (finding)\\n', 'barking, function (observable entity)\\n')\n",
        "('cracked lips (finding)\\n', 'recognition (psychology)\\n')\n",
        "('cracked lips (finding)\\n', 'learning disabilities\\n')\n",
        "('cracked lips (finding)\\n', 'fasting\\n')\n",
        "('cracked lips (finding)\\n', 'mumps\\n')\n",
        "('well in self (finding)\\n', 'cracked lips (finding)\\n')\n",
        "('well in self (finding)\\n', 'well in self (finding)\\n')\n",
        "('well in self (finding)\\n', 'diaper rash\\n')\n",
        "('well in self (finding)\\n', 'challenge tests\\n')\n",
        "('well in self (finding)\\n', 'cold symptoms\\n')\n",
        "('well in self (finding)\\n', 'seizure activity\\n')\n",
        "('well in self (finding)\\n', 'disaffection\\n')\n",
        "('well in self (finding)\\n', 'personal experience\\n')\n",
        "('well in self (finding)\\n', 'influenza-like symptoms (finding)\\n')\n",
        "('well in self (finding)\\n', 'streptococcal infections\\n')\n",
        "('well in self (finding)\\n', 'immune response\\n')\n",
        "('well in self (finding)\\n', 'office visits\\n')\n",
        "('well in self (finding)\\n', 'bruxism\\n')\n",
        "('well in self (finding)\\n', 'stalking\\n')\n",
        "('well in self (finding)\\n', 'myocardial infarction\\n')\n",
        "('well in self (finding)\\n', 'excitement (finding)\\n')\n",
        "('well in self (finding)\\n', 'upset stomach (finding)\\n')\n",
        "('well in self (finding)\\n', 'attention span\\n')\n",
        "('well in self (finding)\\n', 'personal integrity\\n')\n",
        "('well in self (finding)\\n', 'brain development\\n')\n",
        "('well in self (finding)\\n', 'amyotrophic lateral sclerosis\\n')\n",
        "('well in self (finding)\\n', 'obesity\\n')\n",
        "('well in self (finding)\\n', 'psychological inhibition\\n')\n",
        "('well in self (finding)\\n', 'head tilt (finding)\\n')\n",
        "('well in self (finding)\\n', 'panic attacks\\n')\n",
        "('well in self (finding)\\n', 'gastroesophageal reflux disease\\n')\n",
        "('well in self (finding)\\n', 'acidosis\\n')\n",
        "('well in self (finding)\\n', 'iron measurement\\n')\n",
        "('well in self (finding)\\n', 'unspecified encephalopathy (disorder)\\n')\n",
        "('well in self (finding)\\n', 'colitis, ulcerative\\n')\n",
        "('well in self (finding)\\n', 'plague\\n')\n",
        "('well in self (finding)\\n', 'problem, digestive\\n')\n",
        "('well in self (finding)\\n', 'facial expression\\n')\n",
        "('well in self (finding)\\n', 'does sit up (finding)\\n')\n",
        "('well in self (finding)\\n', '[v]other behavioral problems (context-dependent category)\\n')\n",
        "('well in self (finding)\\n', 'motility (finding)\\n')\n",
        "('well in self (finding)\\n', 'schizophrenia\\n')\n",
        "('well in self (finding)\\n', 'uptake\\n')\n",
        "('well in self (finding)\\n', 'criticism\\n')\n",
        "('well in self (finding)\\n', 'epistaxis\\n')\n",
        "('diaper rash\\n', 'cracked lips (finding)\\n')\n",
        "('diaper rash\\n', 'diaper rash\\n')\n",
        "('diaper rash\\n', 'treatment options\\n')\n",
        "('diaper rash\\n', 'hay fever\\n')\n",
        "('diaper rash\\n', 'bad taste\\n')\n",
        "('diaper rash\\n', 'speech and language\\n')\n",
        "('diaper rash\\n', 'bright red color (finding)\\n')\n",
        "('diaper rash\\n', 'sleep disturbances\\n')\n",
        "('diaper rash\\n', 'language ability\\n')\n",
        "('diaper rash\\n', 'lyme disease\\n')\n",
        "('diaper rash\\n', 'electronystagmography\\n')\n",
        "('diaper rash\\n', 'personal experience\\n')\n",
        "('diaper rash\\n', 'streptococcal infections\\n')\n",
        "('diaper rash\\n', 'oxidative stress\\n')\n",
        "('diaper rash\\n', 'low grade pyrexia (finding)\\n')\n",
        "('diaper rash\\n', 'immune response\\n')\n",
        "('diaper rash\\n', 'office visits\\n')\n",
        "('diaper rash\\n', 'encephalitis\\n')\n",
        "('diaper rash\\n', 'gonorrhea\\n')\n",
        "('diaper rash\\n', 'mental health\\n')\n",
        "('diaper rash\\n', 'stalking\\n')\n",
        "('diaper rash\\n', 'upset stomach (finding)\\n')\n",
        "('diaper rash\\n', 'attention span\\n')\n",
        "('diaper rash\\n', 'learning difficulties (finding)\\n')\n",
        "('diaper rash\\n', 'separated from cohabitee\\n')\n",
        "('diaper rash\\n', 'observation parameter (observable entity)\\n')\n",
        "('diaper rash\\n', 'icterus\\n')\n",
        "('diaper rash\\n', 'psychological inhibition\\n')\n",
        "('diaper rash\\n', 'head tilt (finding)\\n')\n",
        "('diaper rash\\n', 'early intervention (education)\\n')\n",
        "('diaper rash\\n', 'colitis, ulcerative\\n')\n",
        "('diaper rash\\n', 'plague\\n')\n",
        "('diaper rash\\n', 'autoimmune diseases\\n')\n",
        "('diaper rash\\n', 'facial expression\\n')\n",
        "('diaper rash\\n', 'syphilis\\n')\n",
        "('diaper rash\\n', 'does sit up (finding)\\n')\n",
        "('diaper rash\\n', 'family history: nos (context-dependent category)\\n')\n",
        "('diaper rash\\n', 'humor\\n')\n",
        "('diaper rash\\n', 'hemorrhagic fever with renal syndrome\\n')\n",
        "('diaper rash\\n', 'motility (finding)\\n')\n",
        "('diaper rash\\n', 'barking, function (observable entity)\\n')\n",
        "('diaper rash\\n', 'pulse taking\\n')\n",
        "('diaper rash\\n', 'fasting\\n')\n",
        "('diaper rash\\n', 'contraction (finding)\\n')\n"
       ]
      }
     ],
     "prompt_number": 84
    },
    {
     "cell_type": "code",
     "collapsed": false,
     "input": [
      "fname = \"pipeline/result10/result_out.100.R\"\n",
      "\n",
      "R10 = np.loadtxt(fname)\n",
      "R10_flat = R10.flatten()\n",
      "R10_sort = sorted(R10_flat)"
     ],
     "language": "python",
     "metadata": {},
     "outputs": [],
     "prompt_number": 85
    },
    {
     "cell_type": "code",
     "collapsed": false,
     "input": [
      "plt.plot(R10_sort)\n",
      "plt.show()"
     ],
     "language": "python",
     "metadata": {},
     "outputs": [
      {
       "metadata": {},
       "output_type": "display_data",
       "png": "[encoded data removed]",
       "text": [
        "<matplotlib.figure.Figure at 0x10663d350>"
       ]
      }
     ],
     "prompt_number": 86
    },
    {
     "cell_type": "code",
     "collapsed": false,
     "input": [
      "least10 = np.where(R10_flat < -0.01)\n",
      "most10 = np.where(R10_flat > 0.01)"
     ],
     "language": "python",
     "metadata": {},
     "outputs": [],
     "prompt_number": 97
    },
    {
     "cell_type": "code",
     "collapsed": false,
     "input": [
      "filenw = \"pipeline/result10/result_out.100.topwords\"\n",
      "top10 = []\n",
      "\n",
      "with open(filenw, \"r\") as f:\n",
      "    for line in f:\n",
      "        line_split = line.split(\" : \")\n",
      "        top10.append(line_split[0])\n",
      "\n",
      "print top10"
     ],
     "language": "python",
     "metadata": {},
     "outputs": [
      {
       "output_type": "stream",
       "stream": "stdout",
       "text": [
        "['C0011974', 'C0038395', 'C0863093', 'C0751651', 'C0031117', 'C0019101', 'C0026780', 'C0233535', 'C0263233', 'C0025289', 'C0263541', 'C0424318', 'C0442874', 'C0019158', 'C0038644', 'C0003507', 'C0009324', 'C0035920', 'C0018672', 'C0085584', 'C0020538', 'C0240066', 'C0687702', 'C0014553', 'C0424605', 'C0038506', 'C0242172', 'C0027651', 'C0162429', 'C0002871', 'C0009319', 'C0039128', 'C0003873', 'C0033975', 'C0268070', 'C0032285', 'C0038379', 'C0010380', 'C0008049', 'C0036341', 'C0268596', 'C0036689', 'C0162309', 'C0001175', 'C0018524', 'C0024523', 'C0497327', 'C0039841', 'C0025007', 'C0242151', 'C0010709', 'C0039614', 'C0037320', 'C0026769', 'C0021311', 'C0242301', 'C0031873', 'C0016053', 'C0017547', 'C0085281', 'C0019247', 'C0018621', 'C0011119', 'C0003864', 'C0025362', 'C0022104', 'C0343844', 'C0011334', 'C0476254', 'C0935572', 'C0009421', 'C0338831', 'C0017168', 'C0032064', 'C0376286', 'C0019345', 'C0012739', 'C0043037', 'C0013295', 'C0028754', 'C0007894', 'C0018081', 'C0006840', 'C0032371', 'C0019340', 'C0008679', 'C0018799', 'C0155626', 'C0016412', 'C0332568', 'C0850497', 'C0039082', 'C0026946', 'C0037199', 'C0349231', 'C0025517', 'C0233522', 'C0030499', 'C0006826', 'C0235099']\n"
       ]
      }
     ],
     "prompt_number": 98
    },
    {
     "cell_type": "code",
     "collapsed": false,
     "input": [
      "least10_cuis = get_cuis(least10, top10)\n",
      "most10_cuis = get_cuis(most10, top10)"
     ],
     "language": "python",
     "metadata": {},
     "outputs": [],
     "prompt_number": 99
    },
    {
     "cell_type": "code",
     "collapsed": false,
     "input": [
      "least10_words = get_words(least10_cuis, cui_dict)"
     ],
     "language": "python",
     "metadata": {},
     "outputs": [
      {
       "output_type": "stream",
       "stream": "stdout",
       "text": [
        "('hemorrhagic fever with renal syndrome\\n', 'hemorrhagic fever with renal syndrome\\n')\n",
        "('croup\\n', 'croup\\n')\n"
       ]
      }
     ],
     "prompt_number": 100
    },
    {
     "cell_type": "code",
     "collapsed": false,
     "input": [
      "most10_words = get_words(most10_cuis, cui_dict)"
     ],
     "language": "python",
     "metadata": {},
     "outputs": [
      {
       "output_type": "stream",
       "stream": "stdout",
       "text": [
        "('hemorrhagic fever with renal syndrome\\n', 'butting (finding)\\n')\n",
        "('butting (finding)\\n', 'hemorrhagic fever with renal syndrome\\n')\n",
        "('butting (finding)\\n', 'aortic valve stenosis\\n')\n",
        "('aortic valve stenosis\\n', 'butting (finding)\\n')\n"
       ]
      }
     ],
     "prompt_number": 101
    },
    {
     "cell_type": "code",
     "collapsed": false,
     "input": [],
     "language": "python",
     "metadata": {},
     "outputs": []
    }
   ],
   "metadata": {}
  }
 ]
}
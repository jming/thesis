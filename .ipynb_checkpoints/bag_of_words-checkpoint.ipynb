{
 "metadata": {
  "name": "",
  "signature": "sha256:7ac6cd64b6ccb090ce99848c5b24046c7463a1f359bad9320d6da16a1e414c93"
 },
 "nbformat": 3,
 "nbformat_minor": 0,
 "worksheets": [
  {
   "cells": [
    {
     "cell_type": "code",
     "collapsed": false,
     "input": [
      "from sklearn.feature_extraction.text import CountVectorizer"
     ],
     "language": "python",
     "metadata": {},
     "outputs": [],
     "prompt_number": 1
    },
    {
     "cell_type": "code",
     "collapsed": false,
     "input": [
      "vectorizer = CountVectorizer(min_df=1)"
     ],
     "language": "python",
     "metadata": {},
     "outputs": [],
     "prompt_number": 2
    },
    {
     "cell_type": "code",
     "collapsed": false,
     "input": [
      "def get_lines(filename):\n",
      "    return [line.strip() for line in open(filename)]"
     ],
     "language": "python",
     "metadata": {},
     "outputs": [],
     "prompt_number": 3
    },
    {
     "cell_type": "code",
     "collapsed": false,
     "input": [
      "all_posts = get_lines('all_posts.txt')"
     ],
     "language": "python",
     "metadata": {},
     "outputs": [],
     "prompt_number": 4
    },
    {
     "cell_type": "code",
     "collapsed": false,
     "input": [
      "X = vectorizer.fit_transform(all_posts)"
     ],
     "language": "python",
     "metadata": {},
     "outputs": [],
     "prompt_number": 5
    },
    {
     "cell_type": "code",
     "collapsed": false,
     "input": [],
     "language": "python",
     "metadata": {},
     "outputs": []
    },
    {
     "cell_type": "code",
     "collapsed": false,
     "input": [
      "def write_list_to_file(lst,filename):\n",
      "    with open(filename, 'a') as f:\n",
      "        for l in lst:\n",
      "            try:\n",
      "                f.write(\"%s\\n\" % l)\n",
      "            except:\n",
      "                f.write(' \\n')"
     ],
     "language": "python",
     "metadata": {},
     "outputs": [],
     "prompt_number": 21
    },
    {
     "cell_type": "code",
     "collapsed": false,
     "input": [
      "autism_vocab= vectorizer.get_feature_names()\n",
      "# print autism_vocab[100000:101000]\n",
      "write_list_to_file(autism_vocab, 'autism_vocab.txt')"
     ],
     "language": "python",
     "metadata": {},
     "outputs": [],
     "prompt_number": 22
    },
    {
     "cell_type": "code",
     "collapsed": false,
     "input": [
      "X"
     ],
     "language": "python",
     "metadata": {},
     "outputs": [
      {
       "metadata": {},
       "output_type": "pyout",
       "prompt_number": 18,
       "text": [
        "<144368x122590 sparse matrix of type '<type 'numpy.int64'>'\n",
        "\twith 9580003 stored elements in Compressed Sparse Row format>"
       ]
      }
     ],
     "prompt_number": 18
    },
    {
     "cell_type": "code",
     "collapsed": false,
     "input": [
      "def get_word_count(filename):\n",
      "    nonzero = X.nonzero()\n",
      "    with open(filename, 'a') as f:\n",
      "        f.write(\"%s\\n\" % str(len(all_posts)))\n",
      "        f.write(\"%s\\n\" % str(len(autism_vocab)))\n",
      "        f.write(\"%s\\n\" % str(X.nnz)\n",
      "        for i in range(len(nonzero)):\n",
      "            try:\n",
      "                f.write(\"%s \\t %s \\t %s\" % ??)\n",
      "            except:\n",
      "                f.write(\" \\n\")"
     ],
     "language": "python",
     "metadata": {},
     "outputs": []
    }
   ],
   "metadata": {}
  }
 ]
}